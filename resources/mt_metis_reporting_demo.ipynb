{
  "nbformat": 4,
  "nbformat_minor": 0,
  "metadata": {
    "colab": {
      "provenance": []
    },
    "kernelspec": {
      "name": "python3",
      "display_name": "Python 3"
    },
    "language_info": {
      "name": "python"
    }
  },
  "cells": [
    {
      "cell_type": "code",
      "execution_count": 1,
      "metadata": {
        "colab": {
          "base_uri": "https://localhost:8080/"
        },
        "id": "CXCUNFRMx8hG",
        "outputId": "1b353527-b01e-4078-8ca8-4bddf8d5bfda"
      },
      "outputs": [
        {
          "output_type": "stream",
          "name": "stdout",
          "text": [
            "  % Total    % Received % Xferd  Average Speed   Time    Time     Time  Current\n",
            "                                 Dload  Upload   Total   Spent    Left  Speed\n",
            "100  479k  100  479k    0     0  1120k      0 --:--:-- --:--:-- --:--:-- 1123k\n"
          ]
        }
      ],
      "source": [
        "!curl https://dlasalle.github.io/mt-metis/releases/mt-metis-0.7.2.tar.gz | tar -xz"
      ]
    },
    {
      "cell_type": "code",
      "source": [
        "!cd mt-metis-0.7.2; ./configure\n",
        "!cd mt-metis-0.7.2; make\n",
        "!cd mt-metis-0.7.2; make install"
      ],
      "metadata": {
        "colab": {
          "base_uri": "https://localhost:8080/"
        },
        "id": "PCm5agCoyfpT",
        "outputId": "122d41aa-71c6-4ead-c5cd-025390e354a4"
      },
      "execution_count": 2,
      "outputs": [
        {
          "output_type": "stream",
          "name": "stdout",
          "text": [
            "Found CMAKE: '/usr/local/bin/cmake'\n",
            "--> cmake version 3.27.4\n",
            "\n",
            "CMake suite maintained and supported by Kitware (kitware.com/cmake).\n",
            "mkdir: created directory 'build'\n",
            "mkdir: created directory 'build/Linux-x86_64'\n",
            "/content/mt-metis-0.7.2/build/Linux-x86_64 /content/mt-metis-0.7.2\n",
            "Calling cmake with arguments '-DCMAKE_VERBOSE_MAKEFILE=1 -DDOMLIB_PATH=domlib -DWILDRIVER_PATH=wildriver -DMETIS_PATH=metis'\n",
            "\u001b[0mCMake Deprecation Warning at CMakeLists.txt:1 (cmake_minimum_required):\n",
            "  Compatibility with CMake < 3.5 will be removed from a future version of\n",
            "  CMake.\n",
            "\n",
            "  Update the VERSION argument <min> value or use a ...<max> suffix to tell\n",
            "  CMake that the project does not need compatibility with older versions.\n",
            "\n",
            "\u001b[0m\n",
            "-- The C compiler identification is GNU 11.4.0\n",
            "-- The CXX compiler identification is GNU 11.4.0\n",
            "-- Detecting C compiler ABI info\n",
            "-- Detecting C compiler ABI info - done\n",
            "-- Check for working C compiler: /usr/bin/cc - skipped\n",
            "-- Detecting C compile features\n",
            "-- Detecting C compile features - done\n",
            "-- Detecting CXX compiler ABI info\n",
            "-- Detecting CXX compiler ABI info - done\n",
            "-- Check for working CXX compiler: /usr/bin/c++ - skipped\n",
            "-- Detecting CXX compile features\n",
            "-- Detecting CXX compile features - done\n",
            "-- Found OpenMP_C: -fopenmp (found version \"4.5\") \n",
            "-- Found OpenMP_CXX: -fopenmp (found version \"4.5\") \n",
            "-- Found OpenMP: TRUE (found version \"4.5\")  \n",
            "\u001b[0mBuilding an optimized release\u001b[0m\n",
            "\u001b[0mCMake Deprecation Warning at wildriver/CMakeLists.txt:5 (cmake_minimum_required):\n",
            "  Compatibility with CMake < 3.5 will be removed from a future version of\n",
            "  CMake.\n",
            "\n",
            "  Update the VERSION argument <min> value or use a ...<max> suffix to tell\n",
            "  CMake that the project does not need compatibility with older versions.\n",
            "\n",
            "\u001b[0m\n",
            "\u001b[0mBuilding an optimized release\u001b[0m\n",
            "-- Configuring done (1.3s)\n",
            "-- Generating done (0.0s)\n",
            "-- Build files have been written to: /content/mt-metis-0.7.2/build/Linux-x86_64\n",
            "/content/mt-metis-0.7.2\n",
            "make -C build/Linux-x86_64 all \n",
            "make[1]: Entering directory '/content/mt-metis-0.7.2/build/Linux-x86_64'\n",
            "/usr/local/lib/python3.10/dist-packages/cmake/data/bin/cmake -S/content/mt-metis-0.7.2 -B/content/mt-metis-0.7.2/build/Linux-x86_64 --check-build-system CMakeFiles/Makefile.cmake 0\n",
            "/usr/local/lib/python3.10/dist-packages/cmake/data/bin/cmake -E cmake_progress_start /content/mt-metis-0.7.2/build/Linux-x86_64/CMakeFiles /content/mt-metis-0.7.2/build/Linux-x86_64//CMakeFiles/progress.marks\n",
            "make  -f CMakeFiles/Makefile2 all\n",
            "make[2]: Entering directory '/content/mt-metis-0.7.2/build/Linux-x86_64'\n",
            "make  -f wildriver/src/CMakeFiles/wildriver.dir/build.make wildriver/src/CMakeFiles/wildriver.dir/depend\n",
            "make[3]: Entering directory '/content/mt-metis-0.7.2/build/Linux-x86_64'\n",
            "cd /content/mt-metis-0.7.2/build/Linux-x86_64 && /usr/local/lib/python3.10/dist-packages/cmake/data/bin/cmake -E cmake_depends \"Unix Makefiles\" /content/mt-metis-0.7.2 /content/mt-metis-0.7.2/wildriver/src /content/mt-metis-0.7.2/build/Linux-x86_64 /content/mt-metis-0.7.2/build/Linux-x86_64/wildriver/src /content/mt-metis-0.7.2/build/Linux-x86_64/wildriver/src/CMakeFiles/wildriver.dir/DependInfo.cmake \"--color=\"\n",
            "make[3]: Leaving directory '/content/mt-metis-0.7.2/build/Linux-x86_64'\n",
            "make  -f wildriver/src/CMakeFiles/wildriver.dir/build.make wildriver/src/CMakeFiles/wildriver.dir/build\n",
            "make[3]: Entering directory '/content/mt-metis-0.7.2/build/Linux-x86_64'\n",
            "[  1%] \u001b[32mBuilding CXX object wildriver/src/CMakeFiles/wildriver.dir/CSRDecoder.cpp.o\u001b[0m\n",
            "cd /content/mt-metis-0.7.2/build/Linux-x86_64/wildriver/src && /usr/bin/c++ -DNDEBUG2=1 -DNDEBUG=1 -DWILDRIVER_DIMENSION_TYPE=uint32_t -DWILDRIVER_INDEX_TYPE=uint32_t -DWILDRIVER_INT_WEIGHTS=1 -DWILDRIVER_VALUE_TYPE=int32_t -Dwildriver_EXPORTS -I/content/mt-metis-0.7.2/include -I/content/mt-metis-0.7.2/domlib -I/content/mt-metis-0.7.2/wildriver/include -I/content/mt-metis-0.7.2/metis/include -I/content/mt-metis-0.7.2/metis/libmetis -I/content/mt-metis-0.7.2/metis/GKlib -I/content/mt-metis-0.7.2/wildriver/src/. -fopenmp -std=c++11 -O3 -DNDEBUG -fPIC -MD -MT wildriver/src/CMakeFiles/wildriver.dir/CSRDecoder.cpp.o -MF CMakeFiles/wildriver.dir/CSRDecoder.cpp.o.d -o CMakeFiles/wildriver.dir/CSRDecoder.cpp.o -c /content/mt-metis-0.7.2/wildriver/src/CSRDecoder.cpp\n",
            "[  2%] \u001b[32mBuilding CXX object wildriver/src/CMakeFiles/wildriver.dir/CSREncoder.cpp.o\u001b[0m\n",
            "cd /content/mt-metis-0.7.2/build/Linux-x86_64/wildriver/src && /usr/bin/c++ -DNDEBUG2=1 -DNDEBUG=1 -DWILDRIVER_DIMENSION_TYPE=uint32_t -DWILDRIVER_INDEX_TYPE=uint32_t -DWILDRIVER_INT_WEIGHTS=1 -DWILDRIVER_VALUE_TYPE=int32_t -Dwildriver_EXPORTS -I/content/mt-metis-0.7.2/include -I/content/mt-metis-0.7.2/domlib -I/content/mt-metis-0.7.2/wildriver/include -I/content/mt-metis-0.7.2/metis/include -I/content/mt-metis-0.7.2/metis/libmetis -I/content/mt-metis-0.7.2/metis/GKlib -I/content/mt-metis-0.7.2/wildriver/src/. -fopenmp -std=c++11 -O3 -DNDEBUG -fPIC -MD -MT wildriver/src/CMakeFiles/wildriver.dir/CSREncoder.cpp.o -MF CMakeFiles/wildriver.dir/CSREncoder.cpp.o.d -o CMakeFiles/wildriver.dir/CSREncoder.cpp.o -c /content/mt-metis-0.7.2/wildriver/src/CSREncoder.cpp\n",
            "[  3%] \u001b[32mBuilding CXX object wildriver/src/CMakeFiles/wildriver.dir/CSRFile.cpp.o\u001b[0m\n",
            "cd /content/mt-metis-0.7.2/build/Linux-x86_64/wildriver/src && /usr/bin/c++ -DNDEBUG2=1 -DNDEBUG=1 -DWILDRIVER_DIMENSION_TYPE=uint32_t -DWILDRIVER_INDEX_TYPE=uint32_t -DWILDRIVER_INT_WEIGHTS=1 -DWILDRIVER_VALUE_TYPE=int32_t -Dwildriver_EXPORTS -I/content/mt-metis-0.7.2/include -I/content/mt-metis-0.7.2/domlib -I/content/mt-metis-0.7.2/wildriver/include -I/content/mt-metis-0.7.2/metis/include -I/content/mt-metis-0.7.2/metis/libmetis -I/content/mt-metis-0.7.2/metis/GKlib -I/content/mt-metis-0.7.2/wildriver/src/. -fopenmp -std=c++11 -O3 -DNDEBUG -fPIC -MD -MT wildriver/src/CMakeFiles/wildriver.dir/CSRFile.cpp.o -MF CMakeFiles/wildriver.dir/CSRFile.cpp.o.d -o CMakeFiles/wildriver.dir/CSRFile.cpp.o -c /content/mt-metis-0.7.2/wildriver/src/CSRFile.cpp\n",
            "[  4%] \u001b[32mBuilding CXX object wildriver/src/CMakeFiles/wildriver.dir/CoordinateWriter.cpp.o\u001b[0m\n",
            "cd /content/mt-metis-0.7.2/build/Linux-x86_64/wildriver/src && /usr/bin/c++ -DNDEBUG2=1 -DNDEBUG=1 -DWILDRIVER_DIMENSION_TYPE=uint32_t -DWILDRIVER_INDEX_TYPE=uint32_t -DWILDRIVER_INT_WEIGHTS=1 -DWILDRIVER_VALUE_TYPE=int32_t -Dwildriver_EXPORTS -I/content/mt-metis-0.7.2/include -I/content/mt-metis-0.7.2/domlib -I/content/mt-metis-0.7.2/wildriver/include -I/content/mt-metis-0.7.2/metis/include -I/content/mt-metis-0.7.2/metis/libmetis -I/content/mt-metis-0.7.2/metis/GKlib -I/content/mt-metis-0.7.2/wildriver/src/. -fopenmp -std=c++11 -O3 -DNDEBUG -fPIC -MD -MT wildriver/src/CMakeFiles/wildriver.dir/CoordinateWriter.cpp.o -MF CMakeFiles/wildriver.dir/CoordinateWriter.cpp.o.d -o CMakeFiles/wildriver.dir/CoordinateWriter.cpp.o -c /content/mt-metis-0.7.2/wildriver/src/CoordinateWriter.cpp\n",
            "[  5%] \u001b[32mBuilding CXX object wildriver/src/CMakeFiles/wildriver.dir/DenseMatrixFile.cpp.o\u001b[0m\n",
            "cd /content/mt-metis-0.7.2/build/Linux-x86_64/wildriver/src && /usr/bin/c++ -DNDEBUG2=1 -DNDEBUG=1 -DWILDRIVER_DIMENSION_TYPE=uint32_t -DWILDRIVER_INDEX_TYPE=uint32_t -DWILDRIVER_INT_WEIGHTS=1 -DWILDRIVER_VALUE_TYPE=int32_t -Dwildriver_EXPORTS -I/content/mt-metis-0.7.2/include -I/content/mt-metis-0.7.2/domlib -I/content/mt-metis-0.7.2/wildriver/include -I/content/mt-metis-0.7.2/metis/include -I/content/mt-metis-0.7.2/metis/libmetis -I/content/mt-metis-0.7.2/metis/GKlib -I/content/mt-metis-0.7.2/wildriver/src/. -fopenmp -std=c++11 -O3 -DNDEBUG -fPIC -MD -MT wildriver/src/CMakeFiles/wildriver.dir/DenseMatrixFile.cpp.o -MF CMakeFiles/wildriver.dir/DenseMatrixFile.cpp.o.d -o CMakeFiles/wildriver.dir/DenseMatrixFile.cpp.o -c /content/mt-metis-0.7.2/wildriver/src/DenseMatrixFile.cpp\n",
            "[  6%] \u001b[32mBuilding CXX object wildriver/src/CMakeFiles/wildriver.dir/GraphInHandle.cpp.o\u001b[0m\n",
            "cd /content/mt-metis-0.7.2/build/Linux-x86_64/wildriver/src && /usr/bin/c++ -DNDEBUG2=1 -DNDEBUG=1 -DWILDRIVER_DIMENSION_TYPE=uint32_t -DWILDRIVER_INDEX_TYPE=uint32_t -DWILDRIVER_INT_WEIGHTS=1 -DWILDRIVER_VALUE_TYPE=int32_t -Dwildriver_EXPORTS -I/content/mt-metis-0.7.2/include -I/content/mt-metis-0.7.2/domlib -I/content/mt-metis-0.7.2/wildriver/include -I/content/mt-metis-0.7.2/metis/include -I/content/mt-metis-0.7.2/metis/libmetis -I/content/mt-metis-0.7.2/metis/GKlib -I/content/mt-metis-0.7.2/wildriver/src/. -fopenmp -std=c++11 -O3 -DNDEBUG -fPIC -MD -MT wildriver/src/CMakeFiles/wildriver.dir/GraphInHandle.cpp.o -MF CMakeFiles/wildriver.dir/GraphInHandle.cpp.o.d -o CMakeFiles/wildriver.dir/GraphInHandle.cpp.o -c /content/mt-metis-0.7.2/wildriver/src/GraphInHandle.cpp\n",
            "[  7%] \u001b[32mBuilding CXX object wildriver/src/CMakeFiles/wildriver.dir/GraphMatrixReader.cpp.o\u001b[0m\n",
            "cd /content/mt-metis-0.7.2/build/Linux-x86_64/wildriver/src && /usr/bin/c++ -DNDEBUG2=1 -DNDEBUG=1 -DWILDRIVER_DIMENSION_TYPE=uint32_t -DWILDRIVER_INDEX_TYPE=uint32_t -DWILDRIVER_INT_WEIGHTS=1 -DWILDRIVER_VALUE_TYPE=int32_t -Dwildriver_EXPORTS -I/content/mt-metis-0.7.2/include -I/content/mt-metis-0.7.2/domlib -I/content/mt-metis-0.7.2/wildriver/include -I/content/mt-metis-0.7.2/metis/include -I/content/mt-metis-0.7.2/metis/libmetis -I/content/mt-metis-0.7.2/metis/GKlib -I/content/mt-metis-0.7.2/wildriver/src/. -fopenmp -std=c++11 -O3 -DNDEBUG -fPIC -MD -MT wildriver/src/CMakeFiles/wildriver.dir/GraphMatrixReader.cpp.o -MF CMakeFiles/wildriver.dir/GraphMatrixReader.cpp.o.d -o CMakeFiles/wildriver.dir/GraphMatrixReader.cpp.o -c /content/mt-metis-0.7.2/wildriver/src/GraphMatrixReader.cpp\n",
            "[  8%] \u001b[32mBuilding CXX object wildriver/src/CMakeFiles/wildriver.dir/GraphMatrixWriter.cpp.o\u001b[0m\n",
            "cd /content/mt-metis-0.7.2/build/Linux-x86_64/wildriver/src && /usr/bin/c++ -DNDEBUG2=1 -DNDEBUG=1 -DWILDRIVER_DIMENSION_TYPE=uint32_t -DWILDRIVER_INDEX_TYPE=uint32_t -DWILDRIVER_INT_WEIGHTS=1 -DWILDRIVER_VALUE_TYPE=int32_t -Dwildriver_EXPORTS -I/content/mt-metis-0.7.2/include -I/content/mt-metis-0.7.2/domlib -I/content/mt-metis-0.7.2/wildriver/include -I/content/mt-metis-0.7.2/metis/include -I/content/mt-metis-0.7.2/metis/libmetis -I/content/mt-metis-0.7.2/metis/GKlib -I/content/mt-metis-0.7.2/wildriver/src/. -fopenmp -std=c++11 -O3 -DNDEBUG -fPIC -MD -MT wildriver/src/CMakeFiles/wildriver.dir/GraphMatrixWriter.cpp.o -MF CMakeFiles/wildriver.dir/GraphMatrixWriter.cpp.o.d -o CMakeFiles/wildriver.dir/GraphMatrixWriter.cpp.o -c /content/mt-metis-0.7.2/wildriver/src/GraphMatrixWriter.cpp\n",
            "[  9%] \u001b[32mBuilding CXX object wildriver/src/CMakeFiles/wildriver.dir/GraphOutHandle.cpp.o\u001b[0m\n",
            "cd /content/mt-metis-0.7.2/build/Linux-x86_64/wildriver/src && /usr/bin/c++ -DNDEBUG2=1 -DNDEBUG=1 -DWILDRIVER_DIMENSION_TYPE=uint32_t -DWILDRIVER_INDEX_TYPE=uint32_t -DWILDRIVER_INT_WEIGHTS=1 -DWILDRIVER_VALUE_TYPE=int32_t -Dwildriver_EXPORTS -I/content/mt-metis-0.7.2/include -I/content/mt-metis-0.7.2/domlib -I/content/mt-metis-0.7.2/wildriver/include -I/content/mt-metis-0.7.2/metis/include -I/content/mt-metis-0.7.2/metis/libmetis -I/content/mt-metis-0.7.2/metis/GKlib -I/content/mt-metis-0.7.2/wildriver/src/. -fopenmp -std=c++11 -O3 -DNDEBUG -fPIC -MD -MT wildriver/src/CMakeFiles/wildriver.dir/GraphOutHandle.cpp.o -MF CMakeFiles/wildriver.dir/GraphOutHandle.cpp.o.d -o CMakeFiles/wildriver.dir/GraphOutHandle.cpp.o -c /content/mt-metis-0.7.2/wildriver/src/GraphOutHandle.cpp\n",
            "[ 10%] \u001b[32mBuilding CXX object wildriver/src/CMakeFiles/wildriver.dir/GraphReaderFactory.cpp.o\u001b[0m\n",
            "cd /content/mt-metis-0.7.2/build/Linux-x86_64/wildriver/src && /usr/bin/c++ -DNDEBUG2=1 -DNDEBUG=1 -DWILDRIVER_DIMENSION_TYPE=uint32_t -DWILDRIVER_INDEX_TYPE=uint32_t -DWILDRIVER_INT_WEIGHTS=1 -DWILDRIVER_VALUE_TYPE=int32_t -Dwildriver_EXPORTS -I/content/mt-metis-0.7.2/include -I/content/mt-metis-0.7.2/domlib -I/content/mt-metis-0.7.2/wildriver/include -I/content/mt-metis-0.7.2/metis/include -I/content/mt-metis-0.7.2/metis/libmetis -I/content/mt-metis-0.7.2/metis/GKlib -I/content/mt-metis-0.7.2/wildriver/src/. -fopenmp -std=c++11 -O3 -DNDEBUG -fPIC -MD -MT wildriver/src/CMakeFiles/wildriver.dir/GraphReaderFactory.cpp.o -MF CMakeFiles/wildriver.dir/GraphReaderFactory.cpp.o.d -o CMakeFiles/wildriver.dir/GraphReaderFactory.cpp.o -c /content/mt-metis-0.7.2/wildriver/src/GraphReaderFactory.cpp\n",
            "[ 11%] \u001b[32mBuilding CXX object wildriver/src/CMakeFiles/wildriver.dir/GraphWriterFactory.cpp.o\u001b[0m\n",
            "cd /content/mt-metis-0.7.2/build/Linux-x86_64/wildriver/src && /usr/bin/c++ -DNDEBUG2=1 -DNDEBUG=1 -DWILDRIVER_DIMENSION_TYPE=uint32_t -DWILDRIVER_INDEX_TYPE=uint32_t -DWILDRIVER_INT_WEIGHTS=1 -DWILDRIVER_VALUE_TYPE=int32_t -Dwildriver_EXPORTS -I/content/mt-metis-0.7.2/include -I/content/mt-metis-0.7.2/domlib -I/content/mt-metis-0.7.2/wildriver/include -I/content/mt-metis-0.7.2/metis/include -I/content/mt-metis-0.7.2/metis/libmetis -I/content/mt-metis-0.7.2/metis/GKlib -I/content/mt-metis-0.7.2/wildriver/src/. -fopenmp -std=c++11 -O3 -DNDEBUG -fPIC -MD -MT wildriver/src/CMakeFiles/wildriver.dir/GraphWriterFactory.cpp.o -MF CMakeFiles/wildriver.dir/GraphWriterFactory.cpp.o.d -o CMakeFiles/wildriver.dir/GraphWriterFactory.cpp.o -c /content/mt-metis-0.7.2/wildriver/src/GraphWriterFactory.cpp\n",
            "[ 12%] \u001b[32mBuilding CXX object wildriver/src/CMakeFiles/wildriver.dir/MatrixGraphReader.cpp.o\u001b[0m\n",
            "cd /content/mt-metis-0.7.2/build/Linux-x86_64/wildriver/src && /usr/bin/c++ -DNDEBUG2=1 -DNDEBUG=1 -DWILDRIVER_DIMENSION_TYPE=uint32_t -DWILDRIVER_INDEX_TYPE=uint32_t -DWILDRIVER_INT_WEIGHTS=1 -DWILDRIVER_VALUE_TYPE=int32_t -Dwildriver_EXPORTS -I/content/mt-metis-0.7.2/include -I/content/mt-metis-0.7.2/domlib -I/content/mt-metis-0.7.2/wildriver/include -I/content/mt-metis-0.7.2/metis/include -I/content/mt-metis-0.7.2/metis/libmetis -I/content/mt-metis-0.7.2/metis/GKlib -I/content/mt-metis-0.7.2/wildriver/src/. -fopenmp -std=c++11 -O3 -DNDEBUG -fPIC -MD -MT wildriver/src/CMakeFiles/wildriver.dir/MatrixGraphReader.cpp.o -MF CMakeFiles/wildriver.dir/MatrixGraphReader.cpp.o.d -o CMakeFiles/wildriver.dir/MatrixGraphReader.cpp.o -c /content/mt-metis-0.7.2/wildriver/src/MatrixGraphReader.cpp\n",
            "[ 13%] \u001b[32mBuilding CXX object wildriver/src/CMakeFiles/wildriver.dir/MatrixGraphWriter.cpp.o\u001b[0m\n",
            "cd /content/mt-metis-0.7.2/build/Linux-x86_64/wildriver/src && /usr/bin/c++ -DNDEBUG2=1 -DNDEBUG=1 -DWILDRIVER_DIMENSION_TYPE=uint32_t -DWILDRIVER_INDEX_TYPE=uint32_t -DWILDRIVER_INT_WEIGHTS=1 -DWILDRIVER_VALUE_TYPE=int32_t -Dwildriver_EXPORTS -I/content/mt-metis-0.7.2/include -I/content/mt-metis-0.7.2/domlib -I/content/mt-metis-0.7.2/wildriver/include -I/content/mt-metis-0.7.2/metis/include -I/content/mt-metis-0.7.2/metis/libmetis -I/content/mt-metis-0.7.2/metis/GKlib -I/content/mt-metis-0.7.2/wildriver/src/. -fopenmp -std=c++11 -O3 -DNDEBUG -fPIC -MD -MT wildriver/src/CMakeFiles/wildriver.dir/MatrixGraphWriter.cpp.o -MF CMakeFiles/wildriver.dir/MatrixGraphWriter.cpp.o.d -o CMakeFiles/wildriver.dir/MatrixGraphWriter.cpp.o -c /content/mt-metis-0.7.2/wildriver/src/MatrixGraphWriter.cpp\n",
            "[ 14%] \u001b[32mBuilding CXX object wildriver/src/CMakeFiles/wildriver.dir/MatrixInHandle.cpp.o\u001b[0m\n",
            "cd /content/mt-metis-0.7.2/build/Linux-x86_64/wildriver/src && /usr/bin/c++ -DNDEBUG2=1 -DNDEBUG=1 -DWILDRIVER_DIMENSION_TYPE=uint32_t -DWILDRIVER_INDEX_TYPE=uint32_t -DWILDRIVER_INT_WEIGHTS=1 -DWILDRIVER_VALUE_TYPE=int32_t -Dwildriver_EXPORTS -I/content/mt-metis-0.7.2/include -I/content/mt-metis-0.7.2/domlib -I/content/mt-metis-0.7.2/wildriver/include -I/content/mt-metis-0.7.2/metis/include -I/content/mt-metis-0.7.2/metis/libmetis -I/content/mt-metis-0.7.2/metis/GKlib -I/content/mt-metis-0.7.2/wildriver/src/. -fopenmp -std=c++11 -O3 -DNDEBUG -fPIC -MD -MT wildriver/src/CMakeFiles/wildriver.dir/MatrixInHandle.cpp.o -MF CMakeFiles/wildriver.dir/MatrixInHandle.cpp.o.d -o CMakeFiles/wildriver.dir/MatrixInHandle.cpp.o -c /content/mt-metis-0.7.2/wildriver/src/MatrixInHandle.cpp\n",
            "[ 15%] \u001b[32mBuilding CXX object wildriver/src/CMakeFiles/wildriver.dir/MatrixMarketFile.cpp.o\u001b[0m\n",
            "cd /content/mt-metis-0.7.2/build/Linux-x86_64/wildriver/src && /usr/bin/c++ -DNDEBUG2=1 -DNDEBUG=1 -DWILDRIVER_DIMENSION_TYPE=uint32_t -DWILDRIVER_INDEX_TYPE=uint32_t -DWILDRIVER_INT_WEIGHTS=1 -DWILDRIVER_VALUE_TYPE=int32_t -Dwildriver_EXPORTS -I/content/mt-metis-0.7.2/include -I/content/mt-metis-0.7.2/domlib -I/content/mt-metis-0.7.2/wildriver/include -I/content/mt-metis-0.7.2/metis/include -I/content/mt-metis-0.7.2/metis/libmetis -I/content/mt-metis-0.7.2/metis/GKlib -I/content/mt-metis-0.7.2/wildriver/src/. -fopenmp -std=c++11 -O3 -DNDEBUG -fPIC -MD -MT wildriver/src/CMakeFiles/wildriver.dir/MatrixMarketFile.cpp.o -MF CMakeFiles/wildriver.dir/MatrixMarketFile.cpp.o.d -o CMakeFiles/wildriver.dir/MatrixMarketFile.cpp.o -c /content/mt-metis-0.7.2/wildriver/src/MatrixMarketFile.cpp\n",
            "[ 16%] \u001b[32mBuilding CXX object wildriver/src/CMakeFiles/wildriver.dir/MatrixOutHandle.cpp.o\u001b[0m\n",
            "cd /content/mt-metis-0.7.2/build/Linux-x86_64/wildriver/src && /usr/bin/c++ -DNDEBUG2=1 -DNDEBUG=1 -DWILDRIVER_DIMENSION_TYPE=uint32_t -DWILDRIVER_INDEX_TYPE=uint32_t -DWILDRIVER_INT_WEIGHTS=1 -DWILDRIVER_VALUE_TYPE=int32_t -Dwildriver_EXPORTS -I/content/mt-metis-0.7.2/include -I/content/mt-metis-0.7.2/domlib -I/content/mt-metis-0.7.2/wildriver/include -I/content/mt-metis-0.7.2/metis/include -I/content/mt-metis-0.7.2/metis/libmetis -I/content/mt-metis-0.7.2/metis/GKlib -I/content/mt-metis-0.7.2/wildriver/src/. -fopenmp -std=c++11 -O3 -DNDEBUG -fPIC -MD -MT wildriver/src/CMakeFiles/wildriver.dir/MatrixOutHandle.cpp.o -MF CMakeFiles/wildriver.dir/MatrixOutHandle.cpp.o.d -o CMakeFiles/wildriver.dir/MatrixOutHandle.cpp.o -c /content/mt-metis-0.7.2/wildriver/src/MatrixOutHandle.cpp\n",
            "[ 17%] \u001b[32mBuilding CXX object wildriver/src/CMakeFiles/wildriver.dir/MatrixReaderFactory.cpp.o\u001b[0m\n",
            "cd /content/mt-metis-0.7.2/build/Linux-x86_64/wildriver/src && /usr/bin/c++ -DNDEBUG2=1 -DNDEBUG=1 -DWILDRIVER_DIMENSION_TYPE=uint32_t -DWILDRIVER_INDEX_TYPE=uint32_t -DWILDRIVER_INT_WEIGHTS=1 -DWILDRIVER_VALUE_TYPE=int32_t -Dwildriver_EXPORTS -I/content/mt-metis-0.7.2/include -I/content/mt-metis-0.7.2/domlib -I/content/mt-metis-0.7.2/wildriver/include -I/content/mt-metis-0.7.2/metis/include -I/content/mt-metis-0.7.2/metis/libmetis -I/content/mt-metis-0.7.2/metis/GKlib -I/content/mt-metis-0.7.2/wildriver/src/. -fopenmp -std=c++11 -O3 -DNDEBUG -fPIC -MD -MT wildriver/src/CMakeFiles/wildriver.dir/MatrixReaderFactory.cpp.o -MF CMakeFiles/wildriver.dir/MatrixReaderFactory.cpp.o.d -o CMakeFiles/wildriver.dir/MatrixReaderFactory.cpp.o -c /content/mt-metis-0.7.2/wildriver/src/MatrixReaderFactory.cpp\n",
            "[ 18%] \u001b[32mBuilding CXX object wildriver/src/CMakeFiles/wildriver.dir/MatrixWriterFactory.cpp.o\u001b[0m\n",
            "cd /content/mt-metis-0.7.2/build/Linux-x86_64/wildriver/src && /usr/bin/c++ -DNDEBUG2=1 -DNDEBUG=1 -DWILDRIVER_DIMENSION_TYPE=uint32_t -DWILDRIVER_INDEX_TYPE=uint32_t -DWILDRIVER_INT_WEIGHTS=1 -DWILDRIVER_VALUE_TYPE=int32_t -Dwildriver_EXPORTS -I/content/mt-metis-0.7.2/include -I/content/mt-metis-0.7.2/domlib -I/content/mt-metis-0.7.2/wildriver/include -I/content/mt-metis-0.7.2/metis/include -I/content/mt-metis-0.7.2/metis/libmetis -I/content/mt-metis-0.7.2/metis/GKlib -I/content/mt-metis-0.7.2/wildriver/src/. -fopenmp -std=c++11 -O3 -DNDEBUG -fPIC -MD -MT wildriver/src/CMakeFiles/wildriver.dir/MatrixWriterFactory.cpp.o -MF CMakeFiles/wildriver.dir/MatrixWriterFactory.cpp.o.d -o CMakeFiles/wildriver.dir/MatrixWriterFactory.cpp.o -c /content/mt-metis-0.7.2/wildriver/src/MatrixWriterFactory.cpp\n",
            "[ 19%] \u001b[32mBuilding CXX object wildriver/src/CMakeFiles/wildriver.dir/MetisFile.cpp.o\u001b[0m\n",
            "cd /content/mt-metis-0.7.2/build/Linux-x86_64/wildriver/src && /usr/bin/c++ -DNDEBUG2=1 -DNDEBUG=1 -DWILDRIVER_DIMENSION_TYPE=uint32_t -DWILDRIVER_INDEX_TYPE=uint32_t -DWILDRIVER_INT_WEIGHTS=1 -DWILDRIVER_VALUE_TYPE=int32_t -Dwildriver_EXPORTS -I/content/mt-metis-0.7.2/include -I/content/mt-metis-0.7.2/domlib -I/content/mt-metis-0.7.2/wildriver/include -I/content/mt-metis-0.7.2/metis/include -I/content/mt-metis-0.7.2/metis/libmetis -I/content/mt-metis-0.7.2/metis/GKlib -I/content/mt-metis-0.7.2/wildriver/src/. -fopenmp -std=c++11 -O3 -DNDEBUG -fPIC -MD -MT wildriver/src/CMakeFiles/wildriver.dir/MetisFile.cpp.o -MF CMakeFiles/wildriver.dir/MetisFile.cpp.o.d -o CMakeFiles/wildriver.dir/MetisFile.cpp.o -c /content/mt-metis-0.7.2/wildriver/src/MetisFile.cpp\n",
            "[ 20%] \u001b[32mBuilding CXX object wildriver/src/CMakeFiles/wildriver.dir/PlainVectorFile.cpp.o\u001b[0m\n",
            "cd /content/mt-metis-0.7.2/build/Linux-x86_64/wildriver/src && /usr/bin/c++ -DNDEBUG2=1 -DNDEBUG=1 -DWILDRIVER_DIMENSION_TYPE=uint32_t -DWILDRIVER_INDEX_TYPE=uint32_t -DWILDRIVER_INT_WEIGHTS=1 -DWILDRIVER_VALUE_TYPE=int32_t -Dwildriver_EXPORTS -I/content/mt-metis-0.7.2/include -I/content/mt-metis-0.7.2/domlib -I/content/mt-metis-0.7.2/wildriver/include -I/content/mt-metis-0.7.2/metis/include -I/content/mt-metis-0.7.2/metis/libmetis -I/content/mt-metis-0.7.2/metis/GKlib -I/content/mt-metis-0.7.2/wildriver/src/. -fopenmp -std=c++11 -O3 -DNDEBUG -fPIC -MD -MT wildriver/src/CMakeFiles/wildriver.dir/PlainVectorFile.cpp.o -MF CMakeFiles/wildriver.dir/PlainVectorFile.cpp.o.d -o CMakeFiles/wildriver.dir/PlainVectorFile.cpp.o -c /content/mt-metis-0.7.2/wildriver/src/PlainVectorFile.cpp\n",
            "[ 21%] \u001b[32mBuilding CXX object wildriver/src/CMakeFiles/wildriver.dir/SNAPFile.cpp.o\u001b[0m\n",
            "cd /content/mt-metis-0.7.2/build/Linux-x86_64/wildriver/src && /usr/bin/c++ -DNDEBUG2=1 -DNDEBUG=1 -DWILDRIVER_DIMENSION_TYPE=uint32_t -DWILDRIVER_INDEX_TYPE=uint32_t -DWILDRIVER_INT_WEIGHTS=1 -DWILDRIVER_VALUE_TYPE=int32_t -Dwildriver_EXPORTS -I/content/mt-metis-0.7.2/include -I/content/mt-metis-0.7.2/domlib -I/content/mt-metis-0.7.2/wildriver/include -I/content/mt-metis-0.7.2/metis/include -I/content/mt-metis-0.7.2/metis/libmetis -I/content/mt-metis-0.7.2/metis/GKlib -I/content/mt-metis-0.7.2/wildriver/src/. -fopenmp -std=c++11 -O3 -DNDEBUG -fPIC -MD -MT wildriver/src/CMakeFiles/wildriver.dir/SNAPFile.cpp.o -MF CMakeFiles/wildriver.dir/SNAPFile.cpp.o.d -o CMakeFiles/wildriver.dir/SNAPFile.cpp.o -c /content/mt-metis-0.7.2/wildriver/src/SNAPFile.cpp\n",
            "[ 22%] \u001b[32mBuilding CXX object wildriver/src/CMakeFiles/wildriver.dir/TextFile.cpp.o\u001b[0m\n",
            "cd /content/mt-metis-0.7.2/build/Linux-x86_64/wildriver/src && /usr/bin/c++ -DNDEBUG2=1 -DNDEBUG=1 -DWILDRIVER_DIMENSION_TYPE=uint32_t -DWILDRIVER_INDEX_TYPE=uint32_t -DWILDRIVER_INT_WEIGHTS=1 -DWILDRIVER_VALUE_TYPE=int32_t -Dwildriver_EXPORTS -I/content/mt-metis-0.7.2/include -I/content/mt-metis-0.7.2/domlib -I/content/mt-metis-0.7.2/wildriver/include -I/content/mt-metis-0.7.2/metis/include -I/content/mt-metis-0.7.2/metis/libmetis -I/content/mt-metis-0.7.2/metis/GKlib -I/content/mt-metis-0.7.2/wildriver/src/. -fopenmp -std=c++11 -O3 -DNDEBUG -fPIC -MD -MT wildriver/src/CMakeFiles/wildriver.dir/TextFile.cpp.o -MF CMakeFiles/wildriver.dir/TextFile.cpp.o.d -o CMakeFiles/wildriver.dir/TextFile.cpp.o -c /content/mt-metis-0.7.2/wildriver/src/TextFile.cpp\n",
            "[ 23%] \u001b[32mBuilding CXX object wildriver/src/CMakeFiles/wildriver.dir/VectorInHandle.cpp.o\u001b[0m\n",
            "cd /content/mt-metis-0.7.2/build/Linux-x86_64/wildriver/src && /usr/bin/c++ -DNDEBUG2=1 -DNDEBUG=1 -DWILDRIVER_DIMENSION_TYPE=uint32_t -DWILDRIVER_INDEX_TYPE=uint32_t -DWILDRIVER_INT_WEIGHTS=1 -DWILDRIVER_VALUE_TYPE=int32_t -Dwildriver_EXPORTS -I/content/mt-metis-0.7.2/include -I/content/mt-metis-0.7.2/domlib -I/content/mt-metis-0.7.2/wildriver/include -I/content/mt-metis-0.7.2/metis/include -I/content/mt-metis-0.7.2/metis/libmetis -I/content/mt-metis-0.7.2/metis/GKlib -I/content/mt-metis-0.7.2/wildriver/src/. -fopenmp -std=c++11 -O3 -DNDEBUG -fPIC -MD -MT wildriver/src/CMakeFiles/wildriver.dir/VectorInHandle.cpp.o -MF CMakeFiles/wildriver.dir/VectorInHandle.cpp.o.d -o CMakeFiles/wildriver.dir/VectorInHandle.cpp.o -c /content/mt-metis-0.7.2/wildriver/src/VectorInHandle.cpp\n",
            "[ 24%] \u001b[32mBuilding CXX object wildriver/src/CMakeFiles/wildriver.dir/VectorOutHandle.cpp.o\u001b[0m\n",
            "cd /content/mt-metis-0.7.2/build/Linux-x86_64/wildriver/src && /usr/bin/c++ -DNDEBUG2=1 -DNDEBUG=1 -DWILDRIVER_DIMENSION_TYPE=uint32_t -DWILDRIVER_INDEX_TYPE=uint32_t -DWILDRIVER_INT_WEIGHTS=1 -DWILDRIVER_VALUE_TYPE=int32_t -Dwildriver_EXPORTS -I/content/mt-metis-0.7.2/include -I/content/mt-metis-0.7.2/domlib -I/content/mt-metis-0.7.2/wildriver/include -I/content/mt-metis-0.7.2/metis/include -I/content/mt-metis-0.7.2/metis/libmetis -I/content/mt-metis-0.7.2/metis/GKlib -I/content/mt-metis-0.7.2/wildriver/src/. -fopenmp -std=c++11 -O3 -DNDEBUG -fPIC -MD -MT wildriver/src/CMakeFiles/wildriver.dir/VectorOutHandle.cpp.o -MF CMakeFiles/wildriver.dir/VectorOutHandle.cpp.o.d -o CMakeFiles/wildriver.dir/VectorOutHandle.cpp.o -c /content/mt-metis-0.7.2/wildriver/src/VectorOutHandle.cpp\n",
            "[ 25%] \u001b[32mBuilding CXX object wildriver/src/CMakeFiles/wildriver.dir/VectorReaderFactory.cpp.o\u001b[0m\n",
            "cd /content/mt-metis-0.7.2/build/Linux-x86_64/wildriver/src && /usr/bin/c++ -DNDEBUG2=1 -DNDEBUG=1 -DWILDRIVER_DIMENSION_TYPE=uint32_t -DWILDRIVER_INDEX_TYPE=uint32_t -DWILDRIVER_INT_WEIGHTS=1 -DWILDRIVER_VALUE_TYPE=int32_t -Dwildriver_EXPORTS -I/content/mt-metis-0.7.2/include -I/content/mt-metis-0.7.2/domlib -I/content/mt-metis-0.7.2/wildriver/include -I/content/mt-metis-0.7.2/metis/include -I/content/mt-metis-0.7.2/metis/libmetis -I/content/mt-metis-0.7.2/metis/GKlib -I/content/mt-metis-0.7.2/wildriver/src/. -fopenmp -std=c++11 -O3 -DNDEBUG -fPIC -MD -MT wildriver/src/CMakeFiles/wildriver.dir/VectorReaderFactory.cpp.o -MF CMakeFiles/wildriver.dir/VectorReaderFactory.cpp.o.d -o CMakeFiles/wildriver.dir/VectorReaderFactory.cpp.o -c /content/mt-metis-0.7.2/wildriver/src/VectorReaderFactory.cpp\n",
            "[ 26%] \u001b[32mBuilding CXX object wildriver/src/CMakeFiles/wildriver.dir/VectorWriterFactory.cpp.o\u001b[0m\n",
            "cd /content/mt-metis-0.7.2/build/Linux-x86_64/wildriver/src && /usr/bin/c++ -DNDEBUG2=1 -DNDEBUG=1 -DWILDRIVER_DIMENSION_TYPE=uint32_t -DWILDRIVER_INDEX_TYPE=uint32_t -DWILDRIVER_INT_WEIGHTS=1 -DWILDRIVER_VALUE_TYPE=int32_t -Dwildriver_EXPORTS -I/content/mt-metis-0.7.2/include -I/content/mt-metis-0.7.2/domlib -I/content/mt-metis-0.7.2/wildriver/include -I/content/mt-metis-0.7.2/metis/include -I/content/mt-metis-0.7.2/metis/libmetis -I/content/mt-metis-0.7.2/metis/GKlib -I/content/mt-metis-0.7.2/wildriver/src/. -fopenmp -std=c++11 -O3 -DNDEBUG -fPIC -MD -MT wildriver/src/CMakeFiles/wildriver.dir/VectorWriterFactory.cpp.o -MF CMakeFiles/wildriver.dir/VectorWriterFactory.cpp.o.d -o CMakeFiles/wildriver.dir/VectorWriterFactory.cpp.o -c /content/mt-metis-0.7.2/wildriver/src/VectorWriterFactory.cpp\n",
            "[ 27%] \u001b[32mBuilding CXX object wildriver/src/CMakeFiles/wildriver.dir/WildRiver.cpp.o\u001b[0m\n",
            "cd /content/mt-metis-0.7.2/build/Linux-x86_64/wildriver/src && /usr/bin/c++ -DNDEBUG2=1 -DNDEBUG=1 -DWILDRIVER_DIMENSION_TYPE=uint32_t -DWILDRIVER_INDEX_TYPE=uint32_t -DWILDRIVER_INT_WEIGHTS=1 -DWILDRIVER_VALUE_TYPE=int32_t -Dwildriver_EXPORTS -I/content/mt-metis-0.7.2/include -I/content/mt-metis-0.7.2/domlib -I/content/mt-metis-0.7.2/wildriver/include -I/content/mt-metis-0.7.2/metis/include -I/content/mt-metis-0.7.2/metis/libmetis -I/content/mt-metis-0.7.2/metis/GKlib -I/content/mt-metis-0.7.2/wildriver/src/. -fopenmp -std=c++11 -O3 -DNDEBUG -fPIC -MD -MT wildriver/src/CMakeFiles/wildriver.dir/WildRiver.cpp.o -MF CMakeFiles/wildriver.dir/WildRiver.cpp.o.d -o CMakeFiles/wildriver.dir/WildRiver.cpp.o -c /content/mt-metis-0.7.2/wildriver/src/WildRiver.cpp\n",
            "[ 28%] \u001b[32m\u001b[1mLinking CXX shared library ../../lib/libwildriver.so\u001b[0m\n",
            "cd /content/mt-metis-0.7.2/build/Linux-x86_64/wildriver/src && /usr/local/lib/python3.10/dist-packages/cmake/data/bin/cmake -E cmake_link_script CMakeFiles/wildriver.dir/link.txt --verbose=1\n",
            "/usr/bin/c++ -fPIC  -fopenmp -std=c++11 -O3 -DNDEBUG -shared -Wl,-soname,libwildriver.so -o ../../lib/libwildriver.so CMakeFiles/wildriver.dir/CSRDecoder.cpp.o CMakeFiles/wildriver.dir/CSREncoder.cpp.o CMakeFiles/wildriver.dir/CSRFile.cpp.o CMakeFiles/wildriver.dir/CoordinateWriter.cpp.o CMakeFiles/wildriver.dir/DenseMatrixFile.cpp.o CMakeFiles/wildriver.dir/GraphInHandle.cpp.o CMakeFiles/wildriver.dir/GraphMatrixReader.cpp.o CMakeFiles/wildriver.dir/GraphMatrixWriter.cpp.o CMakeFiles/wildriver.dir/GraphOutHandle.cpp.o CMakeFiles/wildriver.dir/GraphReaderFactory.cpp.o CMakeFiles/wildriver.dir/GraphWriterFactory.cpp.o CMakeFiles/wildriver.dir/MatrixGraphReader.cpp.o CMakeFiles/wildriver.dir/MatrixGraphWriter.cpp.o CMakeFiles/wildriver.dir/MatrixInHandle.cpp.o CMakeFiles/wildriver.dir/MatrixMarketFile.cpp.o CMakeFiles/wildriver.dir/MatrixOutHandle.cpp.o CMakeFiles/wildriver.dir/MatrixReaderFactory.cpp.o CMakeFiles/wildriver.dir/MatrixWriterFactory.cpp.o CMakeFiles/wildriver.dir/MetisFile.cpp.o CMakeFiles/wildriver.dir/PlainVectorFile.cpp.o CMakeFiles/wildriver.dir/SNAPFile.cpp.o CMakeFiles/wildriver.dir/TextFile.cpp.o CMakeFiles/wildriver.dir/VectorInHandle.cpp.o CMakeFiles/wildriver.dir/VectorOutHandle.cpp.o CMakeFiles/wildriver.dir/VectorReaderFactory.cpp.o CMakeFiles/wildriver.dir/VectorWriterFactory.cpp.o CMakeFiles/wildriver.dir/WildRiver.cpp.o \n",
            "make[3]: Leaving directory '/content/mt-metis-0.7.2/build/Linux-x86_64'\n",
            "[ 28%] Built target wildriver\n",
            "make  -f src/CMakeFiles/mtmetis.dir/build.make src/CMakeFiles/mtmetis.dir/depend\n",
            "make[3]: Entering directory '/content/mt-metis-0.7.2/build/Linux-x86_64'\n",
            "cd /content/mt-metis-0.7.2/build/Linux-x86_64 && /usr/local/lib/python3.10/dist-packages/cmake/data/bin/cmake -E cmake_depends \"Unix Makefiles\" /content/mt-metis-0.7.2 /content/mt-metis-0.7.2/src /content/mt-metis-0.7.2/build/Linux-x86_64 /content/mt-metis-0.7.2/build/Linux-x86_64/src /content/mt-metis-0.7.2/build/Linux-x86_64/src/CMakeFiles/mtmetis.dir/DependInfo.cmake \"--color=\"\n",
            "make[3]: Leaving directory '/content/mt-metis-0.7.2/build/Linux-x86_64'\n",
            "make  -f src/CMakeFiles/mtmetis.dir/build.make src/CMakeFiles/mtmetis.dir/build\n",
            "make[3]: Entering directory '/content/mt-metis-0.7.2/build/Linux-x86_64'\n",
            "[ 28%] \u001b[32mBuilding C object src/CMakeFiles/mtmetis.dir/aggregate.c.o\u001b[0m\n",
            "cd /content/mt-metis-0.7.2/build/Linux-x86_64/src && /usr/bin/cc -DNDEBUG2=1 -DNDEBUG=1 -DWILDRIVER_DIMENSION_TYPE=uint32_t -DWILDRIVER_INDEX_TYPE=uint32_t -DWILDRIVER_INT_WEIGHTS=1 -DWILDRIVER_VALUE_TYPE=int32_t -I/content/mt-metis-0.7.2/include -I/content/mt-metis-0.7.2/domlib -I/content/mt-metis-0.7.2/wildriver/include -I/content/mt-metis-0.7.2/metis/include -I/content/mt-metis-0.7.2/metis/libmetis -I/content/mt-metis-0.7.2/metis/GKlib -I/content/mt-metis-0.7.2/src/. -fopenmp -std=c99 -O3 -DNDEBUG -MD -MT src/CMakeFiles/mtmetis.dir/aggregate.c.o -MF CMakeFiles/mtmetis.dir/aggregate.c.o.d -o CMakeFiles/mtmetis.dir/aggregate.c.o -c /content/mt-metis-0.7.2/src/aggregate.c\n",
            "[ 29%] \u001b[32mBuilding C object src/CMakeFiles/mtmetis.dir/check.c.o\u001b[0m\n",
            "cd /content/mt-metis-0.7.2/build/Linux-x86_64/src && /usr/bin/cc -DNDEBUG2=1 -DNDEBUG=1 -DWILDRIVER_DIMENSION_TYPE=uint32_t -DWILDRIVER_INDEX_TYPE=uint32_t -DWILDRIVER_INT_WEIGHTS=1 -DWILDRIVER_VALUE_TYPE=int32_t -I/content/mt-metis-0.7.2/include -I/content/mt-metis-0.7.2/domlib -I/content/mt-metis-0.7.2/wildriver/include -I/content/mt-metis-0.7.2/metis/include -I/content/mt-metis-0.7.2/metis/libmetis -I/content/mt-metis-0.7.2/metis/GKlib -I/content/mt-metis-0.7.2/src/. -fopenmp -std=c99 -O3 -DNDEBUG -MD -MT src/CMakeFiles/mtmetis.dir/check.c.o -MF CMakeFiles/mtmetis.dir/check.c.o.d -o CMakeFiles/mtmetis.dir/check.c.o -c /content/mt-metis-0.7.2/src/check.c\n",
            "[ 30%] \u001b[32mBuilding C object src/CMakeFiles/mtmetis.dir/coarsen.c.o\u001b[0m\n",
            "cd /content/mt-metis-0.7.2/build/Linux-x86_64/src && /usr/bin/cc -DNDEBUG2=1 -DNDEBUG=1 -DWILDRIVER_DIMENSION_TYPE=uint32_t -DWILDRIVER_INDEX_TYPE=uint32_t -DWILDRIVER_INT_WEIGHTS=1 -DWILDRIVER_VALUE_TYPE=int32_t -I/content/mt-metis-0.7.2/include -I/content/mt-metis-0.7.2/domlib -I/content/mt-metis-0.7.2/wildriver/include -I/content/mt-metis-0.7.2/metis/include -I/content/mt-metis-0.7.2/metis/libmetis -I/content/mt-metis-0.7.2/metis/GKlib -I/content/mt-metis-0.7.2/src/. -fopenmp -std=c99 -O3 -DNDEBUG -MD -MT src/CMakeFiles/mtmetis.dir/coarsen.c.o -MF CMakeFiles/mtmetis.dir/coarsen.c.o.d -o CMakeFiles/mtmetis.dir/coarsen.c.o -c /content/mt-metis-0.7.2/src/coarsen.c\n",
            "[ 31%] \u001b[32mBuilding C object src/CMakeFiles/mtmetis.dir/contract.c.o\u001b[0m\n",
            "cd /content/mt-metis-0.7.2/build/Linux-x86_64/src && /usr/bin/cc -DNDEBUG2=1 -DNDEBUG=1 -DWILDRIVER_DIMENSION_TYPE=uint32_t -DWILDRIVER_INDEX_TYPE=uint32_t -DWILDRIVER_INT_WEIGHTS=1 -DWILDRIVER_VALUE_TYPE=int32_t -I/content/mt-metis-0.7.2/include -I/content/mt-metis-0.7.2/domlib -I/content/mt-metis-0.7.2/wildriver/include -I/content/mt-metis-0.7.2/metis/include -I/content/mt-metis-0.7.2/metis/libmetis -I/content/mt-metis-0.7.2/metis/GKlib -I/content/mt-metis-0.7.2/src/. -fopenmp -std=c99 -O3 -DNDEBUG -MD -MT src/CMakeFiles/mtmetis.dir/contract.c.o -MF CMakeFiles/mtmetis.dir/contract.c.o.d -o CMakeFiles/mtmetis.dir/contract.c.o -c /content/mt-metis-0.7.2/src/contract.c\n",
            "[ 32%] \u001b[32mBuilding C object src/CMakeFiles/mtmetis.dir/ctrl.c.o\u001b[0m\n",
            "cd /content/mt-metis-0.7.2/build/Linux-x86_64/src && /usr/bin/cc -DNDEBUG2=1 -DNDEBUG=1 -DWILDRIVER_DIMENSION_TYPE=uint32_t -DWILDRIVER_INDEX_TYPE=uint32_t -DWILDRIVER_INT_WEIGHTS=1 -DWILDRIVER_VALUE_TYPE=int32_t -I/content/mt-metis-0.7.2/include -I/content/mt-metis-0.7.2/domlib -I/content/mt-metis-0.7.2/wildriver/include -I/content/mt-metis-0.7.2/metis/include -I/content/mt-metis-0.7.2/metis/libmetis -I/content/mt-metis-0.7.2/metis/GKlib -I/content/mt-metis-0.7.2/src/. -fopenmp -std=c99 -O3 -DNDEBUG -MD -MT src/CMakeFiles/mtmetis.dir/ctrl.c.o -MF CMakeFiles/mtmetis.dir/ctrl.c.o.d -o CMakeFiles/mtmetis.dir/ctrl.c.o -c /content/mt-metis-0.7.2/src/ctrl.c\n",
            "[ 33%] \u001b[32mBuilding C object src/CMakeFiles/mtmetis.dir/eseprefine.c.o\u001b[0m\n",
            "cd /content/mt-metis-0.7.2/build/Linux-x86_64/src && /usr/bin/cc -DNDEBUG2=1 -DNDEBUG=1 -DWILDRIVER_DIMENSION_TYPE=uint32_t -DWILDRIVER_INDEX_TYPE=uint32_t -DWILDRIVER_INT_WEIGHTS=1 -DWILDRIVER_VALUE_TYPE=int32_t -I/content/mt-metis-0.7.2/include -I/content/mt-metis-0.7.2/domlib -I/content/mt-metis-0.7.2/wildriver/include -I/content/mt-metis-0.7.2/metis/include -I/content/mt-metis-0.7.2/metis/libmetis -I/content/mt-metis-0.7.2/metis/GKlib -I/content/mt-metis-0.7.2/src/. -fopenmp -std=c99 -O3 -DNDEBUG -MD -MT src/CMakeFiles/mtmetis.dir/eseprefine.c.o -MF CMakeFiles/mtmetis.dir/eseprefine.c.o.d -o CMakeFiles/mtmetis.dir/eseprefine.c.o -c /content/mt-metis-0.7.2/src/eseprefine.c\n",
            "[ 34%] \u001b[32mBuilding C object src/CMakeFiles/mtmetis.dir/esinfo.c.o\u001b[0m\n",
            "cd /content/mt-metis-0.7.2/build/Linux-x86_64/src && /usr/bin/cc -DNDEBUG2=1 -DNDEBUG=1 -DWILDRIVER_DIMENSION_TYPE=uint32_t -DWILDRIVER_INDEX_TYPE=uint32_t -DWILDRIVER_INT_WEIGHTS=1 -DWILDRIVER_VALUE_TYPE=int32_t -I/content/mt-metis-0.7.2/include -I/content/mt-metis-0.7.2/domlib -I/content/mt-metis-0.7.2/wildriver/include -I/content/mt-metis-0.7.2/metis/include -I/content/mt-metis-0.7.2/metis/libmetis -I/content/mt-metis-0.7.2/metis/GKlib -I/content/mt-metis-0.7.2/src/. -fopenmp -std=c99 -O3 -DNDEBUG -MD -MT src/CMakeFiles/mtmetis.dir/esinfo.c.o -MF CMakeFiles/mtmetis.dir/esinfo.c.o.d -o CMakeFiles/mtmetis.dir/esinfo.c.o -c /content/mt-metis-0.7.2/src/esinfo.c\n",
            "[ 35%] \u001b[32mBuilding C object src/CMakeFiles/mtmetis.dir/graph.c.o\u001b[0m\n",
            "cd /content/mt-metis-0.7.2/build/Linux-x86_64/src && /usr/bin/cc -DNDEBUG2=1 -DNDEBUG=1 -DWILDRIVER_DIMENSION_TYPE=uint32_t -DWILDRIVER_INDEX_TYPE=uint32_t -DWILDRIVER_INT_WEIGHTS=1 -DWILDRIVER_VALUE_TYPE=int32_t -I/content/mt-metis-0.7.2/include -I/content/mt-metis-0.7.2/domlib -I/content/mt-metis-0.7.2/wildriver/include -I/content/mt-metis-0.7.2/metis/include -I/content/mt-metis-0.7.2/metis/libmetis -I/content/mt-metis-0.7.2/metis/GKlib -I/content/mt-metis-0.7.2/src/. -fopenmp -std=c99 -O3 -DNDEBUG -MD -MT src/CMakeFiles/mtmetis.dir/graph.c.o -MF CMakeFiles/mtmetis.dir/graph.c.o.d -o CMakeFiles/mtmetis.dir/graph.c.o -c /content/mt-metis-0.7.2/src/graph.c\n",
            "[ 36%] \u001b[32mBuilding C object src/CMakeFiles/mtmetis.dir/imetis.c.o\u001b[0m\n",
            "cd /content/mt-metis-0.7.2/build/Linux-x86_64/src && /usr/bin/cc -DNDEBUG2=1 -DNDEBUG=1 -DWILDRIVER_DIMENSION_TYPE=uint32_t -DWILDRIVER_INDEX_TYPE=uint32_t -DWILDRIVER_INT_WEIGHTS=1 -DWILDRIVER_VALUE_TYPE=int32_t -I/content/mt-metis-0.7.2/include -I/content/mt-metis-0.7.2/domlib -I/content/mt-metis-0.7.2/wildriver/include -I/content/mt-metis-0.7.2/metis/include -I/content/mt-metis-0.7.2/metis/libmetis -I/content/mt-metis-0.7.2/metis/GKlib -I/content/mt-metis-0.7.2/src/. -fopenmp -std=c99 -O3 -DNDEBUG -MD -MT src/CMakeFiles/mtmetis.dir/imetis.c.o -MF CMakeFiles/mtmetis.dir/imetis.c.o.d -o CMakeFiles/mtmetis.dir/imetis.c.o -c /content/mt-metis-0.7.2/src/imetis.c\n",
            "[ 37%] \u001b[32mBuilding C object src/CMakeFiles/mtmetis.dir/initpart.c.o\u001b[0m\n",
            "cd /content/mt-metis-0.7.2/build/Linux-x86_64/src && /usr/bin/cc -DNDEBUG2=1 -DNDEBUG=1 -DWILDRIVER_DIMENSION_TYPE=uint32_t -DWILDRIVER_INDEX_TYPE=uint32_t -DWILDRIVER_INT_WEIGHTS=1 -DWILDRIVER_VALUE_TYPE=int32_t -I/content/mt-metis-0.7.2/include -I/content/mt-metis-0.7.2/domlib -I/content/mt-metis-0.7.2/wildriver/include -I/content/mt-metis-0.7.2/metis/include -I/content/mt-metis-0.7.2/metis/libmetis -I/content/mt-metis-0.7.2/metis/GKlib -I/content/mt-metis-0.7.2/src/. -fopenmp -std=c99 -O3 -DNDEBUG -MD -MT src/CMakeFiles/mtmetis.dir/initpart.c.o -MF CMakeFiles/mtmetis.dir/initpart.c.o.d -o CMakeFiles/mtmetis.dir/initpart.c.o -c /content/mt-metis-0.7.2/src/initpart.c\n",
            "[ 38%] \u001b[32mBuilding C object src/CMakeFiles/mtmetis.dir/kwayrefine.c.o\u001b[0m\n",
            "cd /content/mt-metis-0.7.2/build/Linux-x86_64/src && /usr/bin/cc -DNDEBUG2=1 -DNDEBUG=1 -DWILDRIVER_DIMENSION_TYPE=uint32_t -DWILDRIVER_INDEX_TYPE=uint32_t -DWILDRIVER_INT_WEIGHTS=1 -DWILDRIVER_VALUE_TYPE=int32_t -I/content/mt-metis-0.7.2/include -I/content/mt-metis-0.7.2/domlib -I/content/mt-metis-0.7.2/wildriver/include -I/content/mt-metis-0.7.2/metis/include -I/content/mt-metis-0.7.2/metis/libmetis -I/content/mt-metis-0.7.2/metis/GKlib -I/content/mt-metis-0.7.2/src/. -fopenmp -std=c99 -O3 -DNDEBUG -MD -MT src/CMakeFiles/mtmetis.dir/kwayrefine.c.o -MF CMakeFiles/mtmetis.dir/kwayrefine.c.o.d -o CMakeFiles/mtmetis.dir/kwayrefine.c.o -c /content/mt-metis-0.7.2/src/kwayrefine.c\n",
            "[ 39%] \u001b[32mBuilding C object src/CMakeFiles/mtmetis.dir/kwinfo.c.o\u001b[0m\n",
            "cd /content/mt-metis-0.7.2/build/Linux-x86_64/src && /usr/bin/cc -DNDEBUG2=1 -DNDEBUG=1 -DWILDRIVER_DIMENSION_TYPE=uint32_t -DWILDRIVER_INDEX_TYPE=uint32_t -DWILDRIVER_INT_WEIGHTS=1 -DWILDRIVER_VALUE_TYPE=int32_t -I/content/mt-metis-0.7.2/include -I/content/mt-metis-0.7.2/domlib -I/content/mt-metis-0.7.2/wildriver/include -I/content/mt-metis-0.7.2/metis/include -I/content/mt-metis-0.7.2/metis/libmetis -I/content/mt-metis-0.7.2/metis/GKlib -I/content/mt-metis-0.7.2/src/. -fopenmp -std=c99 -O3 -DNDEBUG -MD -MT src/CMakeFiles/mtmetis.dir/kwinfo.c.o -MF CMakeFiles/mtmetis.dir/kwinfo.c.o.d -o CMakeFiles/mtmetis.dir/kwinfo.c.o -c /content/mt-metis-0.7.2/src/kwinfo.c\n",
            "[ 40%] \u001b[32mBuilding C object src/CMakeFiles/mtmetis.dir/mtmetis.c.o\u001b[0m\n",
            "cd /content/mt-metis-0.7.2/build/Linux-x86_64/src && /usr/bin/cc -DNDEBUG2=1 -DNDEBUG=1 -DWILDRIVER_DIMENSION_TYPE=uint32_t -DWILDRIVER_INDEX_TYPE=uint32_t -DWILDRIVER_INT_WEIGHTS=1 -DWILDRIVER_VALUE_TYPE=int32_t -I/content/mt-metis-0.7.2/include -I/content/mt-metis-0.7.2/domlib -I/content/mt-metis-0.7.2/wildriver/include -I/content/mt-metis-0.7.2/metis/include -I/content/mt-metis-0.7.2/metis/libmetis -I/content/mt-metis-0.7.2/metis/GKlib -I/content/mt-metis-0.7.2/src/. -fopenmp -std=c99 -O3 -DNDEBUG -MD -MT src/CMakeFiles/mtmetis.dir/mtmetis.c.o -MF CMakeFiles/mtmetis.dir/mtmetis.c.o.d -o CMakeFiles/mtmetis.dir/mtmetis.c.o -c /content/mt-metis-0.7.2/src/mtmetis.c\n",
            "[ 41%] \u001b[32mBuilding C object src/CMakeFiles/mtmetis.dir/mtmetis_bin.c.o\u001b[0m\n",
            "cd /content/mt-metis-0.7.2/build/Linux-x86_64/src && /usr/bin/cc -DNDEBUG2=1 -DNDEBUG=1 -DWILDRIVER_DIMENSION_TYPE=uint32_t -DWILDRIVER_INDEX_TYPE=uint32_t -DWILDRIVER_INT_WEIGHTS=1 -DWILDRIVER_VALUE_TYPE=int32_t -I/content/mt-metis-0.7.2/include -I/content/mt-metis-0.7.2/domlib -I/content/mt-metis-0.7.2/wildriver/include -I/content/mt-metis-0.7.2/metis/include -I/content/mt-metis-0.7.2/metis/libmetis -I/content/mt-metis-0.7.2/metis/GKlib -I/content/mt-metis-0.7.2/src/. -fopenmp -std=c99 -O3 -DNDEBUG -MD -MT src/CMakeFiles/mtmetis.dir/mtmetis_bin.c.o -MF CMakeFiles/mtmetis.dir/mtmetis_bin.c.o.d -o CMakeFiles/mtmetis.dir/mtmetis_bin.c.o -c /content/mt-metis-0.7.2/src/mtmetis_bin.c\n",
            "[ 42%] \u001b[32mBuilding C object src/CMakeFiles/mtmetis.dir/order.c.o\u001b[0m\n",
            "cd /content/mt-metis-0.7.2/build/Linux-x86_64/src && /usr/bin/cc -DNDEBUG2=1 -DNDEBUG=1 -DWILDRIVER_DIMENSION_TYPE=uint32_t -DWILDRIVER_INDEX_TYPE=uint32_t -DWILDRIVER_INT_WEIGHTS=1 -DWILDRIVER_VALUE_TYPE=int32_t -I/content/mt-metis-0.7.2/include -I/content/mt-metis-0.7.2/domlib -I/content/mt-metis-0.7.2/wildriver/include -I/content/mt-metis-0.7.2/metis/include -I/content/mt-metis-0.7.2/metis/libmetis -I/content/mt-metis-0.7.2/metis/GKlib -I/content/mt-metis-0.7.2/src/. -fopenmp -std=c99 -O3 -DNDEBUG -MD -MT src/CMakeFiles/mtmetis.dir/order.c.o -MF CMakeFiles/mtmetis.dir/order.c.o.d -o CMakeFiles/mtmetis.dir/order.c.o -c /content/mt-metis-0.7.2/src/order.c\n",
            "[ 43%] \u001b[32mBuilding C object src/CMakeFiles/mtmetis.dir/partition.c.o\u001b[0m\n",
            "cd /content/mt-metis-0.7.2/build/Linux-x86_64/src && /usr/bin/cc -DNDEBUG2=1 -DNDEBUG=1 -DWILDRIVER_DIMENSION_TYPE=uint32_t -DWILDRIVER_INDEX_TYPE=uint32_t -DWILDRIVER_INT_WEIGHTS=1 -DWILDRIVER_VALUE_TYPE=int32_t -I/content/mt-metis-0.7.2/include -I/content/mt-metis-0.7.2/domlib -I/content/mt-metis-0.7.2/wildriver/include -I/content/mt-metis-0.7.2/metis/include -I/content/mt-metis-0.7.2/metis/libmetis -I/content/mt-metis-0.7.2/metis/GKlib -I/content/mt-metis-0.7.2/src/. -fopenmp -std=c99 -O3 -DNDEBUG -MD -MT src/CMakeFiles/mtmetis.dir/partition.c.o -MF CMakeFiles/mtmetis.dir/partition.c.o.d -o CMakeFiles/mtmetis.dir/partition.c.o -c /content/mt-metis-0.7.2/src/partition.c\n",
            "[ 44%] \u001b[32mBuilding C object src/CMakeFiles/mtmetis.dir/project.c.o\u001b[0m\n",
            "cd /content/mt-metis-0.7.2/build/Linux-x86_64/src && /usr/bin/cc -DNDEBUG2=1 -DNDEBUG=1 -DWILDRIVER_DIMENSION_TYPE=uint32_t -DWILDRIVER_INDEX_TYPE=uint32_t -DWILDRIVER_INT_WEIGHTS=1 -DWILDRIVER_VALUE_TYPE=int32_t -I/content/mt-metis-0.7.2/include -I/content/mt-metis-0.7.2/domlib -I/content/mt-metis-0.7.2/wildriver/include -I/content/mt-metis-0.7.2/metis/include -I/content/mt-metis-0.7.2/metis/libmetis -I/content/mt-metis-0.7.2/metis/GKlib -I/content/mt-metis-0.7.2/src/. -fopenmp -std=c99 -O3 -DNDEBUG -MD -MT src/CMakeFiles/mtmetis.dir/project.c.o -MF CMakeFiles/mtmetis.dir/project.c.o.d -o CMakeFiles/mtmetis.dir/project.c.o -c /content/mt-metis-0.7.2/src/project.c\n",
            "[ 45%] \u001b[32mBuilding C object src/CMakeFiles/mtmetis.dir/refine.c.o\u001b[0m\n",
            "cd /content/mt-metis-0.7.2/build/Linux-x86_64/src && /usr/bin/cc -DNDEBUG2=1 -DNDEBUG=1 -DWILDRIVER_DIMENSION_TYPE=uint32_t -DWILDRIVER_INDEX_TYPE=uint32_t -DWILDRIVER_INT_WEIGHTS=1 -DWILDRIVER_VALUE_TYPE=int32_t -I/content/mt-metis-0.7.2/include -I/content/mt-metis-0.7.2/domlib -I/content/mt-metis-0.7.2/wildriver/include -I/content/mt-metis-0.7.2/metis/include -I/content/mt-metis-0.7.2/metis/libmetis -I/content/mt-metis-0.7.2/metis/GKlib -I/content/mt-metis-0.7.2/src/. -fopenmp -std=c99 -O3 -DNDEBUG -MD -MT src/CMakeFiles/mtmetis.dir/refine.c.o -MF CMakeFiles/mtmetis.dir/refine.c.o.d -o CMakeFiles/mtmetis.dir/refine.c.o -c /content/mt-metis-0.7.2/src/refine.c\n",
            "[ 46%] \u001b[32mBuilding C object src/CMakeFiles/mtmetis.dir/uncoarsen.c.o\u001b[0m\n",
            "cd /content/mt-metis-0.7.2/build/Linux-x86_64/src && /usr/bin/cc -DNDEBUG2=1 -DNDEBUG=1 -DWILDRIVER_DIMENSION_TYPE=uint32_t -DWILDRIVER_INDEX_TYPE=uint32_t -DWILDRIVER_INT_WEIGHTS=1 -DWILDRIVER_VALUE_TYPE=int32_t -I/content/mt-metis-0.7.2/include -I/content/mt-metis-0.7.2/domlib -I/content/mt-metis-0.7.2/wildriver/include -I/content/mt-metis-0.7.2/metis/include -I/content/mt-metis-0.7.2/metis/libmetis -I/content/mt-metis-0.7.2/metis/GKlib -I/content/mt-metis-0.7.2/src/. -fopenmp -std=c99 -O3 -DNDEBUG -MD -MT src/CMakeFiles/mtmetis.dir/uncoarsen.c.o -MF CMakeFiles/mtmetis.dir/uncoarsen.c.o.d -o CMakeFiles/mtmetis.dir/uncoarsen.c.o -c /content/mt-metis-0.7.2/src/uncoarsen.c\n",
            "[ 47%] \u001b[32mBuilding C object src/CMakeFiles/mtmetis.dir/vseprefine.c.o\u001b[0m\n",
            "cd /content/mt-metis-0.7.2/build/Linux-x86_64/src && /usr/bin/cc -DNDEBUG2=1 -DNDEBUG=1 -DWILDRIVER_DIMENSION_TYPE=uint32_t -DWILDRIVER_INDEX_TYPE=uint32_t -DWILDRIVER_INT_WEIGHTS=1 -DWILDRIVER_VALUE_TYPE=int32_t -I/content/mt-metis-0.7.2/include -I/content/mt-metis-0.7.2/domlib -I/content/mt-metis-0.7.2/wildriver/include -I/content/mt-metis-0.7.2/metis/include -I/content/mt-metis-0.7.2/metis/libmetis -I/content/mt-metis-0.7.2/metis/GKlib -I/content/mt-metis-0.7.2/src/. -fopenmp -std=c99 -O3 -DNDEBUG -MD -MT src/CMakeFiles/mtmetis.dir/vseprefine.c.o -MF CMakeFiles/mtmetis.dir/vseprefine.c.o.d -o CMakeFiles/mtmetis.dir/vseprefine.c.o -c /content/mt-metis-0.7.2/src/vseprefine.c\n",
            "[ 48%] \u001b[32mBuilding C object src/CMakeFiles/mtmetis.dir/vsinfo.c.o\u001b[0m\n",
            "cd /content/mt-metis-0.7.2/build/Linux-x86_64/src && /usr/bin/cc -DNDEBUG2=1 -DNDEBUG=1 -DWILDRIVER_DIMENSION_TYPE=uint32_t -DWILDRIVER_INDEX_TYPE=uint32_t -DWILDRIVER_INT_WEIGHTS=1 -DWILDRIVER_VALUE_TYPE=int32_t -I/content/mt-metis-0.7.2/include -I/content/mt-metis-0.7.2/domlib -I/content/mt-metis-0.7.2/wildriver/include -I/content/mt-metis-0.7.2/metis/include -I/content/mt-metis-0.7.2/metis/libmetis -I/content/mt-metis-0.7.2/metis/GKlib -I/content/mt-metis-0.7.2/src/. -fopenmp -std=c99 -O3 -DNDEBUG -MD -MT src/CMakeFiles/mtmetis.dir/vsinfo.c.o -MF CMakeFiles/mtmetis.dir/vsinfo.c.o.d -o CMakeFiles/mtmetis.dir/vsinfo.c.o -c /content/mt-metis-0.7.2/src/vsinfo.c\n",
            "[ 49%] \u001b[32mBuilding C object src/CMakeFiles/mtmetis.dir/__/metis/GKlib/error.c.o\u001b[0m\n",
            "cd /content/mt-metis-0.7.2/build/Linux-x86_64/src && /usr/bin/cc -DNDEBUG2=1 -DNDEBUG=1 -DWILDRIVER_DIMENSION_TYPE=uint32_t -DWILDRIVER_INDEX_TYPE=uint32_t -DWILDRIVER_INT_WEIGHTS=1 -DWILDRIVER_VALUE_TYPE=int32_t -I/content/mt-metis-0.7.2/include -I/content/mt-metis-0.7.2/domlib -I/content/mt-metis-0.7.2/wildriver/include -I/content/mt-metis-0.7.2/metis/include -I/content/mt-metis-0.7.2/metis/libmetis -I/content/mt-metis-0.7.2/metis/GKlib -I/content/mt-metis-0.7.2/src/. -fopenmp -std=c99 -O3 -DNDEBUG -MD -MT src/CMakeFiles/mtmetis.dir/__/metis/GKlib/error.c.o -MF CMakeFiles/mtmetis.dir/__/metis/GKlib/error.c.o.d -o CMakeFiles/mtmetis.dir/__/metis/GKlib/error.c.o -c /content/mt-metis-0.7.2/metis/GKlib/error.c\n",
            "[ 50%] \u001b[32mBuilding C object src/CMakeFiles/mtmetis.dir/__/metis/GKlib/fs.c.o\u001b[0m\n",
            "cd /content/mt-metis-0.7.2/build/Linux-x86_64/src && /usr/bin/cc -DNDEBUG2=1 -DNDEBUG=1 -DWILDRIVER_DIMENSION_TYPE=uint32_t -DWILDRIVER_INDEX_TYPE=uint32_t -DWILDRIVER_INT_WEIGHTS=1 -DWILDRIVER_VALUE_TYPE=int32_t -I/content/mt-metis-0.7.2/include -I/content/mt-metis-0.7.2/domlib -I/content/mt-metis-0.7.2/wildriver/include -I/content/mt-metis-0.7.2/metis/include -I/content/mt-metis-0.7.2/metis/libmetis -I/content/mt-metis-0.7.2/metis/GKlib -I/content/mt-metis-0.7.2/src/. -fopenmp -std=c99 -O3 -DNDEBUG -MD -MT src/CMakeFiles/mtmetis.dir/__/metis/GKlib/fs.c.o -MF CMakeFiles/mtmetis.dir/__/metis/GKlib/fs.c.o.d -o CMakeFiles/mtmetis.dir/__/metis/GKlib/fs.c.o -c /content/mt-metis-0.7.2/metis/GKlib/fs.c\n",
            "[ 51%] \u001b[32mBuilding C object src/CMakeFiles/mtmetis.dir/__/metis/GKlib/gk_util.c.o\u001b[0m\n",
            "cd /content/mt-metis-0.7.2/build/Linux-x86_64/src && /usr/bin/cc -DNDEBUG2=1 -DNDEBUG=1 -DWILDRIVER_DIMENSION_TYPE=uint32_t -DWILDRIVER_INDEX_TYPE=uint32_t -DWILDRIVER_INT_WEIGHTS=1 -DWILDRIVER_VALUE_TYPE=int32_t -I/content/mt-metis-0.7.2/include -I/content/mt-metis-0.7.2/domlib -I/content/mt-metis-0.7.2/wildriver/include -I/content/mt-metis-0.7.2/metis/include -I/content/mt-metis-0.7.2/metis/libmetis -I/content/mt-metis-0.7.2/metis/GKlib -I/content/mt-metis-0.7.2/src/. -fopenmp -std=c99 -O3 -DNDEBUG -MD -MT src/CMakeFiles/mtmetis.dir/__/metis/GKlib/gk_util.c.o -MF CMakeFiles/mtmetis.dir/__/metis/GKlib/gk_util.c.o.d -o CMakeFiles/mtmetis.dir/__/metis/GKlib/gk_util.c.o -c /content/mt-metis-0.7.2/metis/GKlib/gk_util.c\n",
            "[ 52%] \u001b[32mBuilding C object src/CMakeFiles/mtmetis.dir/__/metis/GKlib/io.c.o\u001b[0m\n",
            "cd /content/mt-metis-0.7.2/build/Linux-x86_64/src && /usr/bin/cc -DNDEBUG2=1 -DNDEBUG=1 -DWILDRIVER_DIMENSION_TYPE=uint32_t -DWILDRIVER_INDEX_TYPE=uint32_t -DWILDRIVER_INT_WEIGHTS=1 -DWILDRIVER_VALUE_TYPE=int32_t -I/content/mt-metis-0.7.2/include -I/content/mt-metis-0.7.2/domlib -I/content/mt-metis-0.7.2/wildriver/include -I/content/mt-metis-0.7.2/metis/include -I/content/mt-metis-0.7.2/metis/libmetis -I/content/mt-metis-0.7.2/metis/GKlib -I/content/mt-metis-0.7.2/src/. -fopenmp -std=c99 -O3 -DNDEBUG -MD -MT src/CMakeFiles/mtmetis.dir/__/metis/GKlib/io.c.o -MF CMakeFiles/mtmetis.dir/__/metis/GKlib/io.c.o.d -o CMakeFiles/mtmetis.dir/__/metis/GKlib/io.c.o -c /content/mt-metis-0.7.2/metis/GKlib/io.c\n",
            "[ 53%] \u001b[32mBuilding C object src/CMakeFiles/mtmetis.dir/__/metis/GKlib/mcore.c.o\u001b[0m\n",
            "cd /content/mt-metis-0.7.2/build/Linux-x86_64/src && /usr/bin/cc -DNDEBUG2=1 -DNDEBUG=1 -DWILDRIVER_DIMENSION_TYPE=uint32_t -DWILDRIVER_INDEX_TYPE=uint32_t -DWILDRIVER_INT_WEIGHTS=1 -DWILDRIVER_VALUE_TYPE=int32_t -I/content/mt-metis-0.7.2/include -I/content/mt-metis-0.7.2/domlib -I/content/mt-metis-0.7.2/wildriver/include -I/content/mt-metis-0.7.2/metis/include -I/content/mt-metis-0.7.2/metis/libmetis -I/content/mt-metis-0.7.2/metis/GKlib -I/content/mt-metis-0.7.2/src/. -fopenmp -std=c99 -O3 -DNDEBUG -MD -MT src/CMakeFiles/mtmetis.dir/__/metis/GKlib/mcore.c.o -MF CMakeFiles/mtmetis.dir/__/metis/GKlib/mcore.c.o.d -o CMakeFiles/mtmetis.dir/__/metis/GKlib/mcore.c.o -c /content/mt-metis-0.7.2/metis/GKlib/mcore.c\n",
            "[ 54%] \u001b[32mBuilding C object src/CMakeFiles/mtmetis.dir/__/metis/GKlib/memory.c.o\u001b[0m\n",
            "cd /content/mt-metis-0.7.2/build/Linux-x86_64/src && /usr/bin/cc -DNDEBUG2=1 -DNDEBUG=1 -DWILDRIVER_DIMENSION_TYPE=uint32_t -DWILDRIVER_INDEX_TYPE=uint32_t -DWILDRIVER_INT_WEIGHTS=1 -DWILDRIVER_VALUE_TYPE=int32_t -I/content/mt-metis-0.7.2/include -I/content/mt-metis-0.7.2/domlib -I/content/mt-metis-0.7.2/wildriver/include -I/content/mt-metis-0.7.2/metis/include -I/content/mt-metis-0.7.2/metis/libmetis -I/content/mt-metis-0.7.2/metis/GKlib -I/content/mt-metis-0.7.2/src/. -fopenmp -std=c99 -O3 -DNDEBUG -MD -MT src/CMakeFiles/mtmetis.dir/__/metis/GKlib/memory.c.o -MF CMakeFiles/mtmetis.dir/__/metis/GKlib/memory.c.o.d -o CMakeFiles/mtmetis.dir/__/metis/GKlib/memory.c.o -c /content/mt-metis-0.7.2/metis/GKlib/memory.c\n",
            "[ 55%] \u001b[32mBuilding C object src/CMakeFiles/mtmetis.dir/__/metis/GKlib/random.c.o\u001b[0m\n",
            "cd /content/mt-metis-0.7.2/build/Linux-x86_64/src && /usr/bin/cc -DNDEBUG2=1 -DNDEBUG=1 -DWILDRIVER_DIMENSION_TYPE=uint32_t -DWILDRIVER_INDEX_TYPE=uint32_t -DWILDRIVER_INT_WEIGHTS=1 -DWILDRIVER_VALUE_TYPE=int32_t -I/content/mt-metis-0.7.2/include -I/content/mt-metis-0.7.2/domlib -I/content/mt-metis-0.7.2/wildriver/include -I/content/mt-metis-0.7.2/metis/include -I/content/mt-metis-0.7.2/metis/libmetis -I/content/mt-metis-0.7.2/metis/GKlib -I/content/mt-metis-0.7.2/src/. -fopenmp -std=c99 -O3 -DNDEBUG -MD -MT src/CMakeFiles/mtmetis.dir/__/metis/GKlib/random.c.o -MF CMakeFiles/mtmetis.dir/__/metis/GKlib/random.c.o.d -o CMakeFiles/mtmetis.dir/__/metis/GKlib/random.c.o -c /content/mt-metis-0.7.2/metis/GKlib/random.c\n",
            "[ 56%] \u001b[32mBuilding C object src/CMakeFiles/mtmetis.dir/__/metis/GKlib/string.c.o\u001b[0m\n",
            "cd /content/mt-metis-0.7.2/build/Linux-x86_64/src && /usr/bin/cc -DNDEBUG2=1 -DNDEBUG=1 -DWILDRIVER_DIMENSION_TYPE=uint32_t -DWILDRIVER_INDEX_TYPE=uint32_t -DWILDRIVER_INT_WEIGHTS=1 -DWILDRIVER_VALUE_TYPE=int32_t -I/content/mt-metis-0.7.2/include -I/content/mt-metis-0.7.2/domlib -I/content/mt-metis-0.7.2/wildriver/include -I/content/mt-metis-0.7.2/metis/include -I/content/mt-metis-0.7.2/metis/libmetis -I/content/mt-metis-0.7.2/metis/GKlib -I/content/mt-metis-0.7.2/src/. -fopenmp -std=c99 -O3 -DNDEBUG -MD -MT src/CMakeFiles/mtmetis.dir/__/metis/GKlib/string.c.o -MF CMakeFiles/mtmetis.dir/__/metis/GKlib/string.c.o.d -o CMakeFiles/mtmetis.dir/__/metis/GKlib/string.c.o -c /content/mt-metis-0.7.2/metis/GKlib/string.c\n",
            "[ 57%] \u001b[32mBuilding C object src/CMakeFiles/mtmetis.dir/__/metis/GKlib/timers.c.o\u001b[0m\n",
            "cd /content/mt-metis-0.7.2/build/Linux-x86_64/src && /usr/bin/cc -DNDEBUG2=1 -DNDEBUG=1 -DWILDRIVER_DIMENSION_TYPE=uint32_t -DWILDRIVER_INDEX_TYPE=uint32_t -DWILDRIVER_INT_WEIGHTS=1 -DWILDRIVER_VALUE_TYPE=int32_t -I/content/mt-metis-0.7.2/include -I/content/mt-metis-0.7.2/domlib -I/content/mt-metis-0.7.2/wildriver/include -I/content/mt-metis-0.7.2/metis/include -I/content/mt-metis-0.7.2/metis/libmetis -I/content/mt-metis-0.7.2/metis/GKlib -I/content/mt-metis-0.7.2/src/. -fopenmp -std=c99 -O3 -DNDEBUG -MD -MT src/CMakeFiles/mtmetis.dir/__/metis/GKlib/timers.c.o -MF CMakeFiles/mtmetis.dir/__/metis/GKlib/timers.c.o.d -o CMakeFiles/mtmetis.dir/__/metis/GKlib/timers.c.o -c /content/mt-metis-0.7.2/metis/GKlib/timers.c\n",
            "[ 58%] \u001b[32mBuilding C object src/CMakeFiles/mtmetis.dir/__/metis/libmetis/auxapi.c.o\u001b[0m\n",
            "cd /content/mt-metis-0.7.2/build/Linux-x86_64/src && /usr/bin/cc -DNDEBUG2=1 -DNDEBUG=1 -DWILDRIVER_DIMENSION_TYPE=uint32_t -DWILDRIVER_INDEX_TYPE=uint32_t -DWILDRIVER_INT_WEIGHTS=1 -DWILDRIVER_VALUE_TYPE=int32_t -I/content/mt-metis-0.7.2/include -I/content/mt-metis-0.7.2/domlib -I/content/mt-metis-0.7.2/wildriver/include -I/content/mt-metis-0.7.2/metis/include -I/content/mt-metis-0.7.2/metis/libmetis -I/content/mt-metis-0.7.2/metis/GKlib -I/content/mt-metis-0.7.2/src/. -fopenmp -std=c99 -O3 -DNDEBUG -MD -MT src/CMakeFiles/mtmetis.dir/__/metis/libmetis/auxapi.c.o -MF CMakeFiles/mtmetis.dir/__/metis/libmetis/auxapi.c.o.d -o CMakeFiles/mtmetis.dir/__/metis/libmetis/auxapi.c.o -c /content/mt-metis-0.7.2/metis/libmetis/auxapi.c\n",
            "[ 59%] \u001b[32mBuilding C object src/CMakeFiles/mtmetis.dir/__/metis/libmetis/balance.c.o\u001b[0m\n",
            "cd /content/mt-metis-0.7.2/build/Linux-x86_64/src && /usr/bin/cc -DNDEBUG2=1 -DNDEBUG=1 -DWILDRIVER_DIMENSION_TYPE=uint32_t -DWILDRIVER_INDEX_TYPE=uint32_t -DWILDRIVER_INT_WEIGHTS=1 -DWILDRIVER_VALUE_TYPE=int32_t -I/content/mt-metis-0.7.2/include -I/content/mt-metis-0.7.2/domlib -I/content/mt-metis-0.7.2/wildriver/include -I/content/mt-metis-0.7.2/metis/include -I/content/mt-metis-0.7.2/metis/libmetis -I/content/mt-metis-0.7.2/metis/GKlib -I/content/mt-metis-0.7.2/src/. -fopenmp -std=c99 -O3 -DNDEBUG -MD -MT src/CMakeFiles/mtmetis.dir/__/metis/libmetis/balance.c.o -MF CMakeFiles/mtmetis.dir/__/metis/libmetis/balance.c.o.d -o CMakeFiles/mtmetis.dir/__/metis/libmetis/balance.c.o -c /content/mt-metis-0.7.2/metis/libmetis/balance.c\n",
            "[ 60%] \u001b[32mBuilding C object src/CMakeFiles/mtmetis.dir/__/metis/libmetis/bucketsort.c.o\u001b[0m\n",
            "cd /content/mt-metis-0.7.2/build/Linux-x86_64/src && /usr/bin/cc -DNDEBUG2=1 -DNDEBUG=1 -DWILDRIVER_DIMENSION_TYPE=uint32_t -DWILDRIVER_INDEX_TYPE=uint32_t -DWILDRIVER_INT_WEIGHTS=1 -DWILDRIVER_VALUE_TYPE=int32_t -I/content/mt-metis-0.7.2/include -I/content/mt-metis-0.7.2/domlib -I/content/mt-metis-0.7.2/wildriver/include -I/content/mt-metis-0.7.2/metis/include -I/content/mt-metis-0.7.2/metis/libmetis -I/content/mt-metis-0.7.2/metis/GKlib -I/content/mt-metis-0.7.2/src/. -fopenmp -std=c99 -O3 -DNDEBUG -MD -MT src/CMakeFiles/mtmetis.dir/__/metis/libmetis/bucketsort.c.o -MF CMakeFiles/mtmetis.dir/__/metis/libmetis/bucketsort.c.o.d -o CMakeFiles/mtmetis.dir/__/metis/libmetis/bucketsort.c.o -c /content/mt-metis-0.7.2/metis/libmetis/bucketsort.c\n",
            "[ 61%] \u001b[32mBuilding C object src/CMakeFiles/mtmetis.dir/__/metis/libmetis/checkgraph.c.o\u001b[0m\n",
            "cd /content/mt-metis-0.7.2/build/Linux-x86_64/src && /usr/bin/cc -DNDEBUG2=1 -DNDEBUG=1 -DWILDRIVER_DIMENSION_TYPE=uint32_t -DWILDRIVER_INDEX_TYPE=uint32_t -DWILDRIVER_INT_WEIGHTS=1 -DWILDRIVER_VALUE_TYPE=int32_t -I/content/mt-metis-0.7.2/include -I/content/mt-metis-0.7.2/domlib -I/content/mt-metis-0.7.2/wildriver/include -I/content/mt-metis-0.7.2/metis/include -I/content/mt-metis-0.7.2/metis/libmetis -I/content/mt-metis-0.7.2/metis/GKlib -I/content/mt-metis-0.7.2/src/. -fopenmp -std=c99 -O3 -DNDEBUG -MD -MT src/CMakeFiles/mtmetis.dir/__/metis/libmetis/checkgraph.c.o -MF CMakeFiles/mtmetis.dir/__/metis/libmetis/checkgraph.c.o.d -o CMakeFiles/mtmetis.dir/__/metis/libmetis/checkgraph.c.o -c /content/mt-metis-0.7.2/metis/libmetis/checkgraph.c\n",
            "[ 62%] \u001b[32mBuilding C object src/CMakeFiles/mtmetis.dir/__/metis/libmetis/coarsen.c.o\u001b[0m\n",
            "cd /content/mt-metis-0.7.2/build/Linux-x86_64/src && /usr/bin/cc -DNDEBUG2=1 -DNDEBUG=1 -DWILDRIVER_DIMENSION_TYPE=uint32_t -DWILDRIVER_INDEX_TYPE=uint32_t -DWILDRIVER_INT_WEIGHTS=1 -DWILDRIVER_VALUE_TYPE=int32_t -I/content/mt-metis-0.7.2/include -I/content/mt-metis-0.7.2/domlib -I/content/mt-metis-0.7.2/wildriver/include -I/content/mt-metis-0.7.2/metis/include -I/content/mt-metis-0.7.2/metis/libmetis -I/content/mt-metis-0.7.2/metis/GKlib -I/content/mt-metis-0.7.2/src/. -fopenmp -std=c99 -O3 -DNDEBUG -MD -MT src/CMakeFiles/mtmetis.dir/__/metis/libmetis/coarsen.c.o -MF CMakeFiles/mtmetis.dir/__/metis/libmetis/coarsen.c.o.d -o CMakeFiles/mtmetis.dir/__/metis/libmetis/coarsen.c.o -c /content/mt-metis-0.7.2/metis/libmetis/coarsen.c\n",
            "[ 63%] \u001b[32mBuilding C object src/CMakeFiles/mtmetis.dir/__/metis/libmetis/compress.c.o\u001b[0m\n",
            "cd /content/mt-metis-0.7.2/build/Linux-x86_64/src && /usr/bin/cc -DNDEBUG2=1 -DNDEBUG=1 -DWILDRIVER_DIMENSION_TYPE=uint32_t -DWILDRIVER_INDEX_TYPE=uint32_t -DWILDRIVER_INT_WEIGHTS=1 -DWILDRIVER_VALUE_TYPE=int32_t -I/content/mt-metis-0.7.2/include -I/content/mt-metis-0.7.2/domlib -I/content/mt-metis-0.7.2/wildriver/include -I/content/mt-metis-0.7.2/metis/include -I/content/mt-metis-0.7.2/metis/libmetis -I/content/mt-metis-0.7.2/metis/GKlib -I/content/mt-metis-0.7.2/src/. -fopenmp -std=c99 -O3 -DNDEBUG -MD -MT src/CMakeFiles/mtmetis.dir/__/metis/libmetis/compress.c.o -MF CMakeFiles/mtmetis.dir/__/metis/libmetis/compress.c.o.d -o CMakeFiles/mtmetis.dir/__/metis/libmetis/compress.c.o -c /content/mt-metis-0.7.2/metis/libmetis/compress.c\n",
            "[ 64%] \u001b[32mBuilding C object src/CMakeFiles/mtmetis.dir/__/metis/libmetis/contig.c.o\u001b[0m\n",
            "cd /content/mt-metis-0.7.2/build/Linux-x86_64/src && /usr/bin/cc -DNDEBUG2=1 -DNDEBUG=1 -DWILDRIVER_DIMENSION_TYPE=uint32_t -DWILDRIVER_INDEX_TYPE=uint32_t -DWILDRIVER_INT_WEIGHTS=1 -DWILDRIVER_VALUE_TYPE=int32_t -I/content/mt-metis-0.7.2/include -I/content/mt-metis-0.7.2/domlib -I/content/mt-metis-0.7.2/wildriver/include -I/content/mt-metis-0.7.2/metis/include -I/content/mt-metis-0.7.2/metis/libmetis -I/content/mt-metis-0.7.2/metis/GKlib -I/content/mt-metis-0.7.2/src/. -fopenmp -std=c99 -O3 -DNDEBUG -MD -MT src/CMakeFiles/mtmetis.dir/__/metis/libmetis/contig.c.o -MF CMakeFiles/mtmetis.dir/__/metis/libmetis/contig.c.o.d -o CMakeFiles/mtmetis.dir/__/metis/libmetis/contig.c.o -c /content/mt-metis-0.7.2/metis/libmetis/contig.c\n",
            "[ 65%] \u001b[32mBuilding C object src/CMakeFiles/mtmetis.dir/__/metis/libmetis/debug.c.o\u001b[0m\n",
            "cd /content/mt-metis-0.7.2/build/Linux-x86_64/src && /usr/bin/cc -DNDEBUG2=1 -DNDEBUG=1 -DWILDRIVER_DIMENSION_TYPE=uint32_t -DWILDRIVER_INDEX_TYPE=uint32_t -DWILDRIVER_INT_WEIGHTS=1 -DWILDRIVER_VALUE_TYPE=int32_t -I/content/mt-metis-0.7.2/include -I/content/mt-metis-0.7.2/domlib -I/content/mt-metis-0.7.2/wildriver/include -I/content/mt-metis-0.7.2/metis/include -I/content/mt-metis-0.7.2/metis/libmetis -I/content/mt-metis-0.7.2/metis/GKlib -I/content/mt-metis-0.7.2/src/. -fopenmp -std=c99 -O3 -DNDEBUG -MD -MT src/CMakeFiles/mtmetis.dir/__/metis/libmetis/debug.c.o -MF CMakeFiles/mtmetis.dir/__/metis/libmetis/debug.c.o.d -o CMakeFiles/mtmetis.dir/__/metis/libmetis/debug.c.o -c /content/mt-metis-0.7.2/metis/libmetis/debug.c\n",
            "[ 66%] \u001b[32mBuilding C object src/CMakeFiles/mtmetis.dir/__/metis/libmetis/fm.c.o\u001b[0m\n",
            "cd /content/mt-metis-0.7.2/build/Linux-x86_64/src && /usr/bin/cc -DNDEBUG2=1 -DNDEBUG=1 -DWILDRIVER_DIMENSION_TYPE=uint32_t -DWILDRIVER_INDEX_TYPE=uint32_t -DWILDRIVER_INT_WEIGHTS=1 -DWILDRIVER_VALUE_TYPE=int32_t -I/content/mt-metis-0.7.2/include -I/content/mt-metis-0.7.2/domlib -I/content/mt-metis-0.7.2/wildriver/include -I/content/mt-metis-0.7.2/metis/include -I/content/mt-metis-0.7.2/metis/libmetis -I/content/mt-metis-0.7.2/metis/GKlib -I/content/mt-metis-0.7.2/src/. -fopenmp -std=c99 -O3 -DNDEBUG -MD -MT src/CMakeFiles/mtmetis.dir/__/metis/libmetis/fm.c.o -MF CMakeFiles/mtmetis.dir/__/metis/libmetis/fm.c.o.d -o CMakeFiles/mtmetis.dir/__/metis/libmetis/fm.c.o -c /content/mt-metis-0.7.2/metis/libmetis/fm.c\n",
            "[ 67%] \u001b[32mBuilding C object src/CMakeFiles/mtmetis.dir/__/metis/libmetis/fortran.c.o\u001b[0m\n",
            "cd /content/mt-metis-0.7.2/build/Linux-x86_64/src && /usr/bin/cc -DNDEBUG2=1 -DNDEBUG=1 -DWILDRIVER_DIMENSION_TYPE=uint32_t -DWILDRIVER_INDEX_TYPE=uint32_t -DWILDRIVER_INT_WEIGHTS=1 -DWILDRIVER_VALUE_TYPE=int32_t -I/content/mt-metis-0.7.2/include -I/content/mt-metis-0.7.2/domlib -I/content/mt-metis-0.7.2/wildriver/include -I/content/mt-metis-0.7.2/metis/include -I/content/mt-metis-0.7.2/metis/libmetis -I/content/mt-metis-0.7.2/metis/GKlib -I/content/mt-metis-0.7.2/src/. -fopenmp -std=c99 -O3 -DNDEBUG -MD -MT src/CMakeFiles/mtmetis.dir/__/metis/libmetis/fortran.c.o -MF CMakeFiles/mtmetis.dir/__/metis/libmetis/fortran.c.o.d -o CMakeFiles/mtmetis.dir/__/metis/libmetis/fortran.c.o -c /content/mt-metis-0.7.2/metis/libmetis/fortran.c\n",
            "[ 68%] \u001b[32mBuilding C object src/CMakeFiles/mtmetis.dir/__/metis/libmetis/gklib.c.o\u001b[0m\n",
            "cd /content/mt-metis-0.7.2/build/Linux-x86_64/src && /usr/bin/cc -DNDEBUG2=1 -DNDEBUG=1 -DWILDRIVER_DIMENSION_TYPE=uint32_t -DWILDRIVER_INDEX_TYPE=uint32_t -DWILDRIVER_INT_WEIGHTS=1 -DWILDRIVER_VALUE_TYPE=int32_t -I/content/mt-metis-0.7.2/include -I/content/mt-metis-0.7.2/domlib -I/content/mt-metis-0.7.2/wildriver/include -I/content/mt-metis-0.7.2/metis/include -I/content/mt-metis-0.7.2/metis/libmetis -I/content/mt-metis-0.7.2/metis/GKlib -I/content/mt-metis-0.7.2/src/. -fopenmp -std=c99 -O3 -DNDEBUG -MD -MT src/CMakeFiles/mtmetis.dir/__/metis/libmetis/gklib.c.o -MF CMakeFiles/mtmetis.dir/__/metis/libmetis/gklib.c.o.d -o CMakeFiles/mtmetis.dir/__/metis/libmetis/gklib.c.o -c /content/mt-metis-0.7.2/metis/libmetis/gklib.c\n",
            "[ 69%] \u001b[32mBuilding C object src/CMakeFiles/mtmetis.dir/__/metis/libmetis/graph.c.o\u001b[0m\n",
            "cd /content/mt-metis-0.7.2/build/Linux-x86_64/src && /usr/bin/cc -DNDEBUG2=1 -DNDEBUG=1 -DWILDRIVER_DIMENSION_TYPE=uint32_t -DWILDRIVER_INDEX_TYPE=uint32_t -DWILDRIVER_INT_WEIGHTS=1 -DWILDRIVER_VALUE_TYPE=int32_t -I/content/mt-metis-0.7.2/include -I/content/mt-metis-0.7.2/domlib -I/content/mt-metis-0.7.2/wildriver/include -I/content/mt-metis-0.7.2/metis/include -I/content/mt-metis-0.7.2/metis/libmetis -I/content/mt-metis-0.7.2/metis/GKlib -I/content/mt-metis-0.7.2/src/. -fopenmp -std=c99 -O3 -DNDEBUG -MD -MT src/CMakeFiles/mtmetis.dir/__/metis/libmetis/graph.c.o -MF CMakeFiles/mtmetis.dir/__/metis/libmetis/graph.c.o.d -o CMakeFiles/mtmetis.dir/__/metis/libmetis/graph.c.o -c /content/mt-metis-0.7.2/metis/libmetis/graph.c\n",
            "[ 70%] \u001b[32mBuilding C object src/CMakeFiles/mtmetis.dir/__/metis/libmetis/initpart.c.o\u001b[0m\n",
            "cd /content/mt-metis-0.7.2/build/Linux-x86_64/src && /usr/bin/cc -DNDEBUG2=1 -DNDEBUG=1 -DWILDRIVER_DIMENSION_TYPE=uint32_t -DWILDRIVER_INDEX_TYPE=uint32_t -DWILDRIVER_INT_WEIGHTS=1 -DWILDRIVER_VALUE_TYPE=int32_t -I/content/mt-metis-0.7.2/include -I/content/mt-metis-0.7.2/domlib -I/content/mt-metis-0.7.2/wildriver/include -I/content/mt-metis-0.7.2/metis/include -I/content/mt-metis-0.7.2/metis/libmetis -I/content/mt-metis-0.7.2/metis/GKlib -I/content/mt-metis-0.7.2/src/. -fopenmp -std=c99 -O3 -DNDEBUG -MD -MT src/CMakeFiles/mtmetis.dir/__/metis/libmetis/initpart.c.o -MF CMakeFiles/mtmetis.dir/__/metis/libmetis/initpart.c.o.d -o CMakeFiles/mtmetis.dir/__/metis/libmetis/initpart.c.o -c /content/mt-metis-0.7.2/metis/libmetis/initpart.c\n",
            "[ 71%] \u001b[32mBuilding C object src/CMakeFiles/mtmetis.dir/__/metis/libmetis/kmetis.c.o\u001b[0m\n",
            "cd /content/mt-metis-0.7.2/build/Linux-x86_64/src && /usr/bin/cc -DNDEBUG2=1 -DNDEBUG=1 -DWILDRIVER_DIMENSION_TYPE=uint32_t -DWILDRIVER_INDEX_TYPE=uint32_t -DWILDRIVER_INT_WEIGHTS=1 -DWILDRIVER_VALUE_TYPE=int32_t -I/content/mt-metis-0.7.2/include -I/content/mt-metis-0.7.2/domlib -I/content/mt-metis-0.7.2/wildriver/include -I/content/mt-metis-0.7.2/metis/include -I/content/mt-metis-0.7.2/metis/libmetis -I/content/mt-metis-0.7.2/metis/GKlib -I/content/mt-metis-0.7.2/src/. -fopenmp -std=c99 -O3 -DNDEBUG -MD -MT src/CMakeFiles/mtmetis.dir/__/metis/libmetis/kmetis.c.o -MF CMakeFiles/mtmetis.dir/__/metis/libmetis/kmetis.c.o.d -o CMakeFiles/mtmetis.dir/__/metis/libmetis/kmetis.c.o -c /content/mt-metis-0.7.2/metis/libmetis/kmetis.c\n",
            "[ 72%] \u001b[32mBuilding C object src/CMakeFiles/mtmetis.dir/__/metis/libmetis/kwayfm.c.o\u001b[0m\n",
            "cd /content/mt-metis-0.7.2/build/Linux-x86_64/src && /usr/bin/cc -DNDEBUG2=1 -DNDEBUG=1 -DWILDRIVER_DIMENSION_TYPE=uint32_t -DWILDRIVER_INDEX_TYPE=uint32_t -DWILDRIVER_INT_WEIGHTS=1 -DWILDRIVER_VALUE_TYPE=int32_t -I/content/mt-metis-0.7.2/include -I/content/mt-metis-0.7.2/domlib -I/content/mt-metis-0.7.2/wildriver/include -I/content/mt-metis-0.7.2/metis/include -I/content/mt-metis-0.7.2/metis/libmetis -I/content/mt-metis-0.7.2/metis/GKlib -I/content/mt-metis-0.7.2/src/. -fopenmp -std=c99 -O3 -DNDEBUG -MD -MT src/CMakeFiles/mtmetis.dir/__/metis/libmetis/kwayfm.c.o -MF CMakeFiles/mtmetis.dir/__/metis/libmetis/kwayfm.c.o.d -o CMakeFiles/mtmetis.dir/__/metis/libmetis/kwayfm.c.o -c /content/mt-metis-0.7.2/metis/libmetis/kwayfm.c\n",
            "[ 73%] \u001b[32mBuilding C object src/CMakeFiles/mtmetis.dir/__/metis/libmetis/kwayrefine.c.o\u001b[0m\n",
            "cd /content/mt-metis-0.7.2/build/Linux-x86_64/src && /usr/bin/cc -DNDEBUG2=1 -DNDEBUG=1 -DWILDRIVER_DIMENSION_TYPE=uint32_t -DWILDRIVER_INDEX_TYPE=uint32_t -DWILDRIVER_INT_WEIGHTS=1 -DWILDRIVER_VALUE_TYPE=int32_t -I/content/mt-metis-0.7.2/include -I/content/mt-metis-0.7.2/domlib -I/content/mt-metis-0.7.2/wildriver/include -I/content/mt-metis-0.7.2/metis/include -I/content/mt-metis-0.7.2/metis/libmetis -I/content/mt-metis-0.7.2/metis/GKlib -I/content/mt-metis-0.7.2/src/. -fopenmp -std=c99 -O3 -DNDEBUG -MD -MT src/CMakeFiles/mtmetis.dir/__/metis/libmetis/kwayrefine.c.o -MF CMakeFiles/mtmetis.dir/__/metis/libmetis/kwayrefine.c.o.d -o CMakeFiles/mtmetis.dir/__/metis/libmetis/kwayrefine.c.o -c /content/mt-metis-0.7.2/metis/libmetis/kwayrefine.c\n",
            "[ 74%] \u001b[32mBuilding C object src/CMakeFiles/mtmetis.dir/__/metis/libmetis/mcutil.c.o\u001b[0m\n",
            "cd /content/mt-metis-0.7.2/build/Linux-x86_64/src && /usr/bin/cc -DNDEBUG2=1 -DNDEBUG=1 -DWILDRIVER_DIMENSION_TYPE=uint32_t -DWILDRIVER_INDEX_TYPE=uint32_t -DWILDRIVER_INT_WEIGHTS=1 -DWILDRIVER_VALUE_TYPE=int32_t -I/content/mt-metis-0.7.2/include -I/content/mt-metis-0.7.2/domlib -I/content/mt-metis-0.7.2/wildriver/include -I/content/mt-metis-0.7.2/metis/include -I/content/mt-metis-0.7.2/metis/libmetis -I/content/mt-metis-0.7.2/metis/GKlib -I/content/mt-metis-0.7.2/src/. -fopenmp -std=c99 -O3 -DNDEBUG -MD -MT src/CMakeFiles/mtmetis.dir/__/metis/libmetis/mcutil.c.o -MF CMakeFiles/mtmetis.dir/__/metis/libmetis/mcutil.c.o.d -o CMakeFiles/mtmetis.dir/__/metis/libmetis/mcutil.c.o -c /content/mt-metis-0.7.2/metis/libmetis/mcutil.c\n",
            "[ 75%] \u001b[32mBuilding C object src/CMakeFiles/mtmetis.dir/__/metis/libmetis/minconn.c.o\u001b[0m\n",
            "cd /content/mt-metis-0.7.2/build/Linux-x86_64/src && /usr/bin/cc -DNDEBUG2=1 -DNDEBUG=1 -DWILDRIVER_DIMENSION_TYPE=uint32_t -DWILDRIVER_INDEX_TYPE=uint32_t -DWILDRIVER_INT_WEIGHTS=1 -DWILDRIVER_VALUE_TYPE=int32_t -I/content/mt-metis-0.7.2/include -I/content/mt-metis-0.7.2/domlib -I/content/mt-metis-0.7.2/wildriver/include -I/content/mt-metis-0.7.2/metis/include -I/content/mt-metis-0.7.2/metis/libmetis -I/content/mt-metis-0.7.2/metis/GKlib -I/content/mt-metis-0.7.2/src/. -fopenmp -std=c99 -O3 -DNDEBUG -MD -MT src/CMakeFiles/mtmetis.dir/__/metis/libmetis/minconn.c.o -MF CMakeFiles/mtmetis.dir/__/metis/libmetis/minconn.c.o.d -o CMakeFiles/mtmetis.dir/__/metis/libmetis/minconn.c.o -c /content/mt-metis-0.7.2/metis/libmetis/minconn.c\n",
            "[ 76%] \u001b[32mBuilding C object src/CMakeFiles/mtmetis.dir/__/metis/libmetis/mincover.c.o\u001b[0m\n",
            "cd /content/mt-metis-0.7.2/build/Linux-x86_64/src && /usr/bin/cc -DNDEBUG2=1 -DNDEBUG=1 -DWILDRIVER_DIMENSION_TYPE=uint32_t -DWILDRIVER_INDEX_TYPE=uint32_t -DWILDRIVER_INT_WEIGHTS=1 -DWILDRIVER_VALUE_TYPE=int32_t -I/content/mt-metis-0.7.2/include -I/content/mt-metis-0.7.2/domlib -I/content/mt-metis-0.7.2/wildriver/include -I/content/mt-metis-0.7.2/metis/include -I/content/mt-metis-0.7.2/metis/libmetis -I/content/mt-metis-0.7.2/metis/GKlib -I/content/mt-metis-0.7.2/src/. -fopenmp -std=c99 -O3 -DNDEBUG -MD -MT src/CMakeFiles/mtmetis.dir/__/metis/libmetis/mincover.c.o -MF CMakeFiles/mtmetis.dir/__/metis/libmetis/mincover.c.o.d -o CMakeFiles/mtmetis.dir/__/metis/libmetis/mincover.c.o -c /content/mt-metis-0.7.2/metis/libmetis/mincover.c\n",
            "[ 77%] \u001b[32mBuilding C object src/CMakeFiles/mtmetis.dir/__/metis/libmetis/mmd.c.o\u001b[0m\n",
            "cd /content/mt-metis-0.7.2/build/Linux-x86_64/src && /usr/bin/cc -DNDEBUG2=1 -DNDEBUG=1 -DWILDRIVER_DIMENSION_TYPE=uint32_t -DWILDRIVER_INDEX_TYPE=uint32_t -DWILDRIVER_INT_WEIGHTS=1 -DWILDRIVER_VALUE_TYPE=int32_t -I/content/mt-metis-0.7.2/include -I/content/mt-metis-0.7.2/domlib -I/content/mt-metis-0.7.2/wildriver/include -I/content/mt-metis-0.7.2/metis/include -I/content/mt-metis-0.7.2/metis/libmetis -I/content/mt-metis-0.7.2/metis/GKlib -I/content/mt-metis-0.7.2/src/. -fopenmp -std=c99 -O3 -DNDEBUG -MD -MT src/CMakeFiles/mtmetis.dir/__/metis/libmetis/mmd.c.o -MF CMakeFiles/mtmetis.dir/__/metis/libmetis/mmd.c.o.d -o CMakeFiles/mtmetis.dir/__/metis/libmetis/mmd.c.o -c /content/mt-metis-0.7.2/metis/libmetis/mmd.c\n",
            "[ 78%] \u001b[32mBuilding C object src/CMakeFiles/mtmetis.dir/__/metis/libmetis/ometis.c.o\u001b[0m\n",
            "cd /content/mt-metis-0.7.2/build/Linux-x86_64/src && /usr/bin/cc -DNDEBUG2=1 -DNDEBUG=1 -DWILDRIVER_DIMENSION_TYPE=uint32_t -DWILDRIVER_INDEX_TYPE=uint32_t -DWILDRIVER_INT_WEIGHTS=1 -DWILDRIVER_VALUE_TYPE=int32_t -I/content/mt-metis-0.7.2/include -I/content/mt-metis-0.7.2/domlib -I/content/mt-metis-0.7.2/wildriver/include -I/content/mt-metis-0.7.2/metis/include -I/content/mt-metis-0.7.2/metis/libmetis -I/content/mt-metis-0.7.2/metis/GKlib -I/content/mt-metis-0.7.2/src/. -fopenmp -std=c99 -O3 -DNDEBUG -MD -MT src/CMakeFiles/mtmetis.dir/__/metis/libmetis/ometis.c.o -MF CMakeFiles/mtmetis.dir/__/metis/libmetis/ometis.c.o.d -o CMakeFiles/mtmetis.dir/__/metis/libmetis/ometis.c.o -c /content/mt-metis-0.7.2/metis/libmetis/ometis.c\n",
            "[ 78%] \u001b[32mBuilding C object src/CMakeFiles/mtmetis.dir/__/metis/libmetis/options.c.o\u001b[0m\n",
            "cd /content/mt-metis-0.7.2/build/Linux-x86_64/src && /usr/bin/cc -DNDEBUG2=1 -DNDEBUG=1 -DWILDRIVER_DIMENSION_TYPE=uint32_t -DWILDRIVER_INDEX_TYPE=uint32_t -DWILDRIVER_INT_WEIGHTS=1 -DWILDRIVER_VALUE_TYPE=int32_t -I/content/mt-metis-0.7.2/include -I/content/mt-metis-0.7.2/domlib -I/content/mt-metis-0.7.2/wildriver/include -I/content/mt-metis-0.7.2/metis/include -I/content/mt-metis-0.7.2/metis/libmetis -I/content/mt-metis-0.7.2/metis/GKlib -I/content/mt-metis-0.7.2/src/. -fopenmp -std=c99 -O3 -DNDEBUG -MD -MT src/CMakeFiles/mtmetis.dir/__/metis/libmetis/options.c.o -MF CMakeFiles/mtmetis.dir/__/metis/libmetis/options.c.o.d -o CMakeFiles/mtmetis.dir/__/metis/libmetis/options.c.o -c /content/mt-metis-0.7.2/metis/libmetis/options.c\n",
            "[ 79%] \u001b[32mBuilding C object src/CMakeFiles/mtmetis.dir/__/metis/libmetis/parmetis.c.o\u001b[0m\n",
            "cd /content/mt-metis-0.7.2/build/Linux-x86_64/src && /usr/bin/cc -DNDEBUG2=1 -DNDEBUG=1 -DWILDRIVER_DIMENSION_TYPE=uint32_t -DWILDRIVER_INDEX_TYPE=uint32_t -DWILDRIVER_INT_WEIGHTS=1 -DWILDRIVER_VALUE_TYPE=int32_t -I/content/mt-metis-0.7.2/include -I/content/mt-metis-0.7.2/domlib -I/content/mt-metis-0.7.2/wildriver/include -I/content/mt-metis-0.7.2/metis/include -I/content/mt-metis-0.7.2/metis/libmetis -I/content/mt-metis-0.7.2/metis/GKlib -I/content/mt-metis-0.7.2/src/. -fopenmp -std=c99 -O3 -DNDEBUG -MD -MT src/CMakeFiles/mtmetis.dir/__/metis/libmetis/parmetis.c.o -MF CMakeFiles/mtmetis.dir/__/metis/libmetis/parmetis.c.o.d -o CMakeFiles/mtmetis.dir/__/metis/libmetis/parmetis.c.o -c /content/mt-metis-0.7.2/metis/libmetis/parmetis.c\n",
            "[ 80%] \u001b[32mBuilding C object src/CMakeFiles/mtmetis.dir/__/metis/libmetis/pmetis.c.o\u001b[0m\n",
            "cd /content/mt-metis-0.7.2/build/Linux-x86_64/src && /usr/bin/cc -DNDEBUG2=1 -DNDEBUG=1 -DWILDRIVER_DIMENSION_TYPE=uint32_t -DWILDRIVER_INDEX_TYPE=uint32_t -DWILDRIVER_INT_WEIGHTS=1 -DWILDRIVER_VALUE_TYPE=int32_t -I/content/mt-metis-0.7.2/include -I/content/mt-metis-0.7.2/domlib -I/content/mt-metis-0.7.2/wildriver/include -I/content/mt-metis-0.7.2/metis/include -I/content/mt-metis-0.7.2/metis/libmetis -I/content/mt-metis-0.7.2/metis/GKlib -I/content/mt-metis-0.7.2/src/. -fopenmp -std=c99 -O3 -DNDEBUG -MD -MT src/CMakeFiles/mtmetis.dir/__/metis/libmetis/pmetis.c.o -MF CMakeFiles/mtmetis.dir/__/metis/libmetis/pmetis.c.o.d -o CMakeFiles/mtmetis.dir/__/metis/libmetis/pmetis.c.o -c /content/mt-metis-0.7.2/metis/libmetis/pmetis.c\n",
            "[ 81%] \u001b[32mBuilding C object src/CMakeFiles/mtmetis.dir/__/metis/libmetis/refine.c.o\u001b[0m\n",
            "cd /content/mt-metis-0.7.2/build/Linux-x86_64/src && /usr/bin/cc -DNDEBUG2=1 -DNDEBUG=1 -DWILDRIVER_DIMENSION_TYPE=uint32_t -DWILDRIVER_INDEX_TYPE=uint32_t -DWILDRIVER_INT_WEIGHTS=1 -DWILDRIVER_VALUE_TYPE=int32_t -I/content/mt-metis-0.7.2/include -I/content/mt-metis-0.7.2/domlib -I/content/mt-metis-0.7.2/wildriver/include -I/content/mt-metis-0.7.2/metis/include -I/content/mt-metis-0.7.2/metis/libmetis -I/content/mt-metis-0.7.2/metis/GKlib -I/content/mt-metis-0.7.2/src/. -fopenmp -std=c99 -O3 -DNDEBUG -MD -MT src/CMakeFiles/mtmetis.dir/__/metis/libmetis/refine.c.o -MF CMakeFiles/mtmetis.dir/__/metis/libmetis/refine.c.o.d -o CMakeFiles/mtmetis.dir/__/metis/libmetis/refine.c.o -c /content/mt-metis-0.7.2/metis/libmetis/refine.c\n",
            "[ 82%] \u001b[32mBuilding C object src/CMakeFiles/mtmetis.dir/__/metis/libmetis/separator.c.o\u001b[0m\n",
            "cd /content/mt-metis-0.7.2/build/Linux-x86_64/src && /usr/bin/cc -DNDEBUG2=1 -DNDEBUG=1 -DWILDRIVER_DIMENSION_TYPE=uint32_t -DWILDRIVER_INDEX_TYPE=uint32_t -DWILDRIVER_INT_WEIGHTS=1 -DWILDRIVER_VALUE_TYPE=int32_t -I/content/mt-metis-0.7.2/include -I/content/mt-metis-0.7.2/domlib -I/content/mt-metis-0.7.2/wildriver/include -I/content/mt-metis-0.7.2/metis/include -I/content/mt-metis-0.7.2/metis/libmetis -I/content/mt-metis-0.7.2/metis/GKlib -I/content/mt-metis-0.7.2/src/. -fopenmp -std=c99 -O3 -DNDEBUG -MD -MT src/CMakeFiles/mtmetis.dir/__/metis/libmetis/separator.c.o -MF CMakeFiles/mtmetis.dir/__/metis/libmetis/separator.c.o.d -o CMakeFiles/mtmetis.dir/__/metis/libmetis/separator.c.o -c /content/mt-metis-0.7.2/metis/libmetis/separator.c\n",
            "[ 83%] \u001b[32mBuilding C object src/CMakeFiles/mtmetis.dir/__/metis/libmetis/sfm.c.o\u001b[0m\n",
            "cd /content/mt-metis-0.7.2/build/Linux-x86_64/src && /usr/bin/cc -DNDEBUG2=1 -DNDEBUG=1 -DWILDRIVER_DIMENSION_TYPE=uint32_t -DWILDRIVER_INDEX_TYPE=uint32_t -DWILDRIVER_INT_WEIGHTS=1 -DWILDRIVER_VALUE_TYPE=int32_t -I/content/mt-metis-0.7.2/include -I/content/mt-metis-0.7.2/domlib -I/content/mt-metis-0.7.2/wildriver/include -I/content/mt-metis-0.7.2/metis/include -I/content/mt-metis-0.7.2/metis/libmetis -I/content/mt-metis-0.7.2/metis/GKlib -I/content/mt-metis-0.7.2/src/. -fopenmp -std=c99 -O3 -DNDEBUG -MD -MT src/CMakeFiles/mtmetis.dir/__/metis/libmetis/sfm.c.o -MF CMakeFiles/mtmetis.dir/__/metis/libmetis/sfm.c.o.d -o CMakeFiles/mtmetis.dir/__/metis/libmetis/sfm.c.o -c /content/mt-metis-0.7.2/metis/libmetis/sfm.c\n",
            "[ 84%] \u001b[32mBuilding C object src/CMakeFiles/mtmetis.dir/__/metis/libmetis/srefine.c.o\u001b[0m\n",
            "cd /content/mt-metis-0.7.2/build/Linux-x86_64/src && /usr/bin/cc -DNDEBUG2=1 -DNDEBUG=1 -DWILDRIVER_DIMENSION_TYPE=uint32_t -DWILDRIVER_INDEX_TYPE=uint32_t -DWILDRIVER_INT_WEIGHTS=1 -DWILDRIVER_VALUE_TYPE=int32_t -I/content/mt-metis-0.7.2/include -I/content/mt-metis-0.7.2/domlib -I/content/mt-metis-0.7.2/wildriver/include -I/content/mt-metis-0.7.2/metis/include -I/content/mt-metis-0.7.2/metis/libmetis -I/content/mt-metis-0.7.2/metis/GKlib -I/content/mt-metis-0.7.2/src/. -fopenmp -std=c99 -O3 -DNDEBUG -MD -MT src/CMakeFiles/mtmetis.dir/__/metis/libmetis/srefine.c.o -MF CMakeFiles/mtmetis.dir/__/metis/libmetis/srefine.c.o.d -o CMakeFiles/mtmetis.dir/__/metis/libmetis/srefine.c.o -c /content/mt-metis-0.7.2/metis/libmetis/srefine.c\n",
            "[ 85%] \u001b[32mBuilding C object src/CMakeFiles/mtmetis.dir/__/metis/libmetis/stat.c.o\u001b[0m\n",
            "cd /content/mt-metis-0.7.2/build/Linux-x86_64/src && /usr/bin/cc -DNDEBUG2=1 -DNDEBUG=1 -DWILDRIVER_DIMENSION_TYPE=uint32_t -DWILDRIVER_INDEX_TYPE=uint32_t -DWILDRIVER_INT_WEIGHTS=1 -DWILDRIVER_VALUE_TYPE=int32_t -I/content/mt-metis-0.7.2/include -I/content/mt-metis-0.7.2/domlib -I/content/mt-metis-0.7.2/wildriver/include -I/content/mt-metis-0.7.2/metis/include -I/content/mt-metis-0.7.2/metis/libmetis -I/content/mt-metis-0.7.2/metis/GKlib -I/content/mt-metis-0.7.2/src/. -fopenmp -std=c99 -O3 -DNDEBUG -MD -MT src/CMakeFiles/mtmetis.dir/__/metis/libmetis/stat.c.o -MF CMakeFiles/mtmetis.dir/__/metis/libmetis/stat.c.o.d -o CMakeFiles/mtmetis.dir/__/metis/libmetis/stat.c.o -c /content/mt-metis-0.7.2/metis/libmetis/stat.c\n",
            "[ 86%] \u001b[32mBuilding C object src/CMakeFiles/mtmetis.dir/__/metis/libmetis/timing.c.o\u001b[0m\n",
            "cd /content/mt-metis-0.7.2/build/Linux-x86_64/src && /usr/bin/cc -DNDEBUG2=1 -DNDEBUG=1 -DWILDRIVER_DIMENSION_TYPE=uint32_t -DWILDRIVER_INDEX_TYPE=uint32_t -DWILDRIVER_INT_WEIGHTS=1 -DWILDRIVER_VALUE_TYPE=int32_t -I/content/mt-metis-0.7.2/include -I/content/mt-metis-0.7.2/domlib -I/content/mt-metis-0.7.2/wildriver/include -I/content/mt-metis-0.7.2/metis/include -I/content/mt-metis-0.7.2/metis/libmetis -I/content/mt-metis-0.7.2/metis/GKlib -I/content/mt-metis-0.7.2/src/. -fopenmp -std=c99 -O3 -DNDEBUG -MD -MT src/CMakeFiles/mtmetis.dir/__/metis/libmetis/timing.c.o -MF CMakeFiles/mtmetis.dir/__/metis/libmetis/timing.c.o.d -o CMakeFiles/mtmetis.dir/__/metis/libmetis/timing.c.o -c /content/mt-metis-0.7.2/metis/libmetis/timing.c\n",
            "[ 87%] \u001b[32mBuilding C object src/CMakeFiles/mtmetis.dir/__/metis/libmetis/util.c.o\u001b[0m\n",
            "cd /content/mt-metis-0.7.2/build/Linux-x86_64/src && /usr/bin/cc -DNDEBUG2=1 -DNDEBUG=1 -DWILDRIVER_DIMENSION_TYPE=uint32_t -DWILDRIVER_INDEX_TYPE=uint32_t -DWILDRIVER_INT_WEIGHTS=1 -DWILDRIVER_VALUE_TYPE=int32_t -I/content/mt-metis-0.7.2/include -I/content/mt-metis-0.7.2/domlib -I/content/mt-metis-0.7.2/wildriver/include -I/content/mt-metis-0.7.2/metis/include -I/content/mt-metis-0.7.2/metis/libmetis -I/content/mt-metis-0.7.2/metis/GKlib -I/content/mt-metis-0.7.2/src/. -fopenmp -std=c99 -O3 -DNDEBUG -MD -MT src/CMakeFiles/mtmetis.dir/__/metis/libmetis/util.c.o -MF CMakeFiles/mtmetis.dir/__/metis/libmetis/util.c.o.d -o CMakeFiles/mtmetis.dir/__/metis/libmetis/util.c.o -c /content/mt-metis-0.7.2/metis/libmetis/util.c\n",
            "[ 88%] \u001b[32mBuilding C object src/CMakeFiles/mtmetis.dir/__/metis/libmetis/wspace.c.o\u001b[0m\n",
            "cd /content/mt-metis-0.7.2/build/Linux-x86_64/src && /usr/bin/cc -DNDEBUG2=1 -DNDEBUG=1 -DWILDRIVER_DIMENSION_TYPE=uint32_t -DWILDRIVER_INDEX_TYPE=uint32_t -DWILDRIVER_INT_WEIGHTS=1 -DWILDRIVER_VALUE_TYPE=int32_t -I/content/mt-metis-0.7.2/include -I/content/mt-metis-0.7.2/domlib -I/content/mt-metis-0.7.2/wildriver/include -I/content/mt-metis-0.7.2/metis/include -I/content/mt-metis-0.7.2/metis/libmetis -I/content/mt-metis-0.7.2/metis/GKlib -I/content/mt-metis-0.7.2/src/. -fopenmp -std=c99 -O3 -DNDEBUG -MD -MT src/CMakeFiles/mtmetis.dir/__/metis/libmetis/wspace.c.o -MF CMakeFiles/mtmetis.dir/__/metis/libmetis/wspace.c.o.d -o CMakeFiles/mtmetis.dir/__/metis/libmetis/wspace.c.o -c /content/mt-metis-0.7.2/metis/libmetis/wspace.c\n",
            "[ 89%] \u001b[32mBuilding C object src/CMakeFiles/mtmetis.dir/__/domlib/dlcmdline.c.o\u001b[0m\n",
            "cd /content/mt-metis-0.7.2/build/Linux-x86_64/src && /usr/bin/cc -DNDEBUG2=1 -DNDEBUG=1 -DWILDRIVER_DIMENSION_TYPE=uint32_t -DWILDRIVER_INDEX_TYPE=uint32_t -DWILDRIVER_INT_WEIGHTS=1 -DWILDRIVER_VALUE_TYPE=int32_t -I/content/mt-metis-0.7.2/include -I/content/mt-metis-0.7.2/domlib -I/content/mt-metis-0.7.2/wildriver/include -I/content/mt-metis-0.7.2/metis/include -I/content/mt-metis-0.7.2/metis/libmetis -I/content/mt-metis-0.7.2/metis/GKlib -I/content/mt-metis-0.7.2/src/. -fopenmp -std=c99 -O3 -DNDEBUG -MD -MT src/CMakeFiles/mtmetis.dir/__/domlib/dlcmdline.c.o -MF CMakeFiles/mtmetis.dir/__/domlib/dlcmdline.c.o.d -o CMakeFiles/mtmetis.dir/__/domlib/dlcmdline.c.o -c /content/mt-metis-0.7.2/domlib/dlcmdline.c\n",
            "[ 90%] \u001b[32mBuilding C object src/CMakeFiles/mtmetis.dir/__/domlib/dlenv.c.o\u001b[0m\n",
            "cd /content/mt-metis-0.7.2/build/Linux-x86_64/src && /usr/bin/cc -DNDEBUG2=1 -DNDEBUG=1 -DWILDRIVER_DIMENSION_TYPE=uint32_t -DWILDRIVER_INDEX_TYPE=uint32_t -DWILDRIVER_INT_WEIGHTS=1 -DWILDRIVER_VALUE_TYPE=int32_t -I/content/mt-metis-0.7.2/include -I/content/mt-metis-0.7.2/domlib -I/content/mt-metis-0.7.2/wildriver/include -I/content/mt-metis-0.7.2/metis/include -I/content/mt-metis-0.7.2/metis/libmetis -I/content/mt-metis-0.7.2/metis/GKlib -I/content/mt-metis-0.7.2/src/. -fopenmp -std=c99 -O3 -DNDEBUG -MD -MT src/CMakeFiles/mtmetis.dir/__/domlib/dlenv.c.o -MF CMakeFiles/mtmetis.dir/__/domlib/dlenv.c.o.d -o CMakeFiles/mtmetis.dir/__/domlib/dlenv.c.o -c /content/mt-metis-0.7.2/domlib/dlenv.c\n",
            "[ 91%] \u001b[32mBuilding C object src/CMakeFiles/mtmetis.dir/__/domlib/dlfile.c.o\u001b[0m\n",
            "cd /content/mt-metis-0.7.2/build/Linux-x86_64/src && /usr/bin/cc -DNDEBUG2=1 -DNDEBUG=1 -DWILDRIVER_DIMENSION_TYPE=uint32_t -DWILDRIVER_INDEX_TYPE=uint32_t -DWILDRIVER_INT_WEIGHTS=1 -DWILDRIVER_VALUE_TYPE=int32_t -I/content/mt-metis-0.7.2/include -I/content/mt-metis-0.7.2/domlib -I/content/mt-metis-0.7.2/wildriver/include -I/content/mt-metis-0.7.2/metis/include -I/content/mt-metis-0.7.2/metis/libmetis -I/content/mt-metis-0.7.2/metis/GKlib -I/content/mt-metis-0.7.2/src/. -fopenmp -std=c99 -O3 -DNDEBUG -MD -MT src/CMakeFiles/mtmetis.dir/__/domlib/dlfile.c.o -MF CMakeFiles/mtmetis.dir/__/domlib/dlfile.c.o.d -o CMakeFiles/mtmetis.dir/__/domlib/dlfile.c.o -c /content/mt-metis-0.7.2/domlib/dlfile.c\n",
            "[ 92%] \u001b[32mBuilding C object src/CMakeFiles/mtmetis.dir/__/domlib/dlstring.c.o\u001b[0m\n",
            "cd /content/mt-metis-0.7.2/build/Linux-x86_64/src && /usr/bin/cc -DNDEBUG2=1 -DNDEBUG=1 -DWILDRIVER_DIMENSION_TYPE=uint32_t -DWILDRIVER_INDEX_TYPE=uint32_t -DWILDRIVER_INT_WEIGHTS=1 -DWILDRIVER_VALUE_TYPE=int32_t -I/content/mt-metis-0.7.2/include -I/content/mt-metis-0.7.2/domlib -I/content/mt-metis-0.7.2/wildriver/include -I/content/mt-metis-0.7.2/metis/include -I/content/mt-metis-0.7.2/metis/libmetis -I/content/mt-metis-0.7.2/metis/GKlib -I/content/mt-metis-0.7.2/src/. -fopenmp -std=c99 -O3 -DNDEBUG -MD -MT src/CMakeFiles/mtmetis.dir/__/domlib/dlstring.c.o -MF CMakeFiles/mtmetis.dir/__/domlib/dlstring.c.o.d -o CMakeFiles/mtmetis.dir/__/domlib/dlstring.c.o -c /content/mt-metis-0.7.2/domlib/dlstring.c\n",
            "[ 93%] \u001b[32mBuilding C object src/CMakeFiles/mtmetis.dir/__/domlib/dlterm.c.o\u001b[0m\n",
            "cd /content/mt-metis-0.7.2/build/Linux-x86_64/src && /usr/bin/cc -DNDEBUG2=1 -DNDEBUG=1 -DWILDRIVER_DIMENSION_TYPE=uint32_t -DWILDRIVER_INDEX_TYPE=uint32_t -DWILDRIVER_INT_WEIGHTS=1 -DWILDRIVER_VALUE_TYPE=int32_t -I/content/mt-metis-0.7.2/include -I/content/mt-metis-0.7.2/domlib -I/content/mt-metis-0.7.2/wildriver/include -I/content/mt-metis-0.7.2/metis/include -I/content/mt-metis-0.7.2/metis/libmetis -I/content/mt-metis-0.7.2/metis/GKlib -I/content/mt-metis-0.7.2/src/. -fopenmp -std=c99 -O3 -DNDEBUG -MD -MT src/CMakeFiles/mtmetis.dir/__/domlib/dlterm.c.o -MF CMakeFiles/mtmetis.dir/__/domlib/dlterm.c.o.d -o CMakeFiles/mtmetis.dir/__/domlib/dlterm.c.o -c /content/mt-metis-0.7.2/domlib/dlterm.c\n",
            "[ 94%] \u001b[32mBuilding C object src/CMakeFiles/mtmetis.dir/__/domlib/dlthread.c.o\u001b[0m\n",
            "cd /content/mt-metis-0.7.2/build/Linux-x86_64/src && /usr/bin/cc -DNDEBUG2=1 -DNDEBUG=1 -DWILDRIVER_DIMENSION_TYPE=uint32_t -DWILDRIVER_INDEX_TYPE=uint32_t -DWILDRIVER_INT_WEIGHTS=1 -DWILDRIVER_VALUE_TYPE=int32_t -I/content/mt-metis-0.7.2/include -I/content/mt-metis-0.7.2/domlib -I/content/mt-metis-0.7.2/wildriver/include -I/content/mt-metis-0.7.2/metis/include -I/content/mt-metis-0.7.2/metis/libmetis -I/content/mt-metis-0.7.2/metis/GKlib -I/content/mt-metis-0.7.2/src/. -fopenmp -std=c99 -O3 -DNDEBUG -MD -MT src/CMakeFiles/mtmetis.dir/__/domlib/dlthread.c.o -MF CMakeFiles/mtmetis.dir/__/domlib/dlthread.c.o.d -o CMakeFiles/mtmetis.dir/__/domlib/dlthread.c.o -c /content/mt-metis-0.7.2/domlib/dlthread.c\n",
            "[ 95%] \u001b[32mBuilding C object src/CMakeFiles/mtmetis.dir/__/domlib/dlthread_pool.c.o\u001b[0m\n",
            "cd /content/mt-metis-0.7.2/build/Linux-x86_64/src && /usr/bin/cc -DNDEBUG2=1 -DNDEBUG=1 -DWILDRIVER_DIMENSION_TYPE=uint32_t -DWILDRIVER_INDEX_TYPE=uint32_t -DWILDRIVER_INT_WEIGHTS=1 -DWILDRIVER_VALUE_TYPE=int32_t -I/content/mt-metis-0.7.2/include -I/content/mt-metis-0.7.2/domlib -I/content/mt-metis-0.7.2/wildriver/include -I/content/mt-metis-0.7.2/metis/include -I/content/mt-metis-0.7.2/metis/libmetis -I/content/mt-metis-0.7.2/metis/GKlib -I/content/mt-metis-0.7.2/src/. -fopenmp -std=c99 -O3 -DNDEBUG -MD -MT src/CMakeFiles/mtmetis.dir/__/domlib/dlthread_pool.c.o -MF CMakeFiles/mtmetis.dir/__/domlib/dlthread_pool.c.o.d -o CMakeFiles/mtmetis.dir/__/domlib/dlthread_pool.c.o -c /content/mt-metis-0.7.2/domlib/dlthread_pool.c\n",
            "[ 96%] \u001b[32mBuilding C object src/CMakeFiles/mtmetis.dir/__/domlib/dlutil.c.o\u001b[0m\n",
            "cd /content/mt-metis-0.7.2/build/Linux-x86_64/src && /usr/bin/cc -DNDEBUG2=1 -DNDEBUG=1 -DWILDRIVER_DIMENSION_TYPE=uint32_t -DWILDRIVER_INDEX_TYPE=uint32_t -DWILDRIVER_INT_WEIGHTS=1 -DWILDRIVER_VALUE_TYPE=int32_t -I/content/mt-metis-0.7.2/include -I/content/mt-metis-0.7.2/domlib -I/content/mt-metis-0.7.2/wildriver/include -I/content/mt-metis-0.7.2/metis/include -I/content/mt-metis-0.7.2/metis/libmetis -I/content/mt-metis-0.7.2/metis/GKlib -I/content/mt-metis-0.7.2/src/. -fopenmp -std=c99 -O3 -DNDEBUG -MD -MT src/CMakeFiles/mtmetis.dir/__/domlib/dlutil.c.o -MF CMakeFiles/mtmetis.dir/__/domlib/dlutil.c.o.d -o CMakeFiles/mtmetis.dir/__/domlib/dlutil.c.o -c /content/mt-metis-0.7.2/domlib/dlutil.c\n",
            "[ 97%] \u001b[32mBuilding C object src/CMakeFiles/mtmetis.dir/__/domlib/domlib.c.o\u001b[0m\n",
            "cd /content/mt-metis-0.7.2/build/Linux-x86_64/src && /usr/bin/cc -DNDEBUG2=1 -DNDEBUG=1 -DWILDRIVER_DIMENSION_TYPE=uint32_t -DWILDRIVER_INDEX_TYPE=uint32_t -DWILDRIVER_INT_WEIGHTS=1 -DWILDRIVER_VALUE_TYPE=int32_t -I/content/mt-metis-0.7.2/include -I/content/mt-metis-0.7.2/domlib -I/content/mt-metis-0.7.2/wildriver/include -I/content/mt-metis-0.7.2/metis/include -I/content/mt-metis-0.7.2/metis/libmetis -I/content/mt-metis-0.7.2/metis/GKlib -I/content/mt-metis-0.7.2/src/. -fopenmp -std=c99 -O3 -DNDEBUG -MD -MT src/CMakeFiles/mtmetis.dir/__/domlib/domlib.c.o -MF CMakeFiles/mtmetis.dir/__/domlib/domlib.c.o.d -o CMakeFiles/mtmetis.dir/__/domlib/domlib.c.o -c /content/mt-metis-0.7.2/domlib/domlib.c\n",
            "[ 98%] \u001b[32m\u001b[1mLinking C static library ../lib/libmtmetis.a\u001b[0m\n",
            "cd /content/mt-metis-0.7.2/build/Linux-x86_64/src && /usr/local/lib/python3.10/dist-packages/cmake/data/bin/cmake -P CMakeFiles/mtmetis.dir/cmake_clean_target.cmake\n",
            "cd /content/mt-metis-0.7.2/build/Linux-x86_64/src && /usr/local/lib/python3.10/dist-packages/cmake/data/bin/cmake -E cmake_link_script CMakeFiles/mtmetis.dir/link.txt --verbose=1\n",
            "/usr/bin/ar qc ../lib/libmtmetis.a CMakeFiles/mtmetis.dir/aggregate.c.o CMakeFiles/mtmetis.dir/check.c.o CMakeFiles/mtmetis.dir/coarsen.c.o CMakeFiles/mtmetis.dir/contract.c.o CMakeFiles/mtmetis.dir/ctrl.c.o CMakeFiles/mtmetis.dir/eseprefine.c.o CMakeFiles/mtmetis.dir/esinfo.c.o CMakeFiles/mtmetis.dir/graph.c.o CMakeFiles/mtmetis.dir/imetis.c.o CMakeFiles/mtmetis.dir/initpart.c.o CMakeFiles/mtmetis.dir/kwayrefine.c.o CMakeFiles/mtmetis.dir/kwinfo.c.o CMakeFiles/mtmetis.dir/mtmetis.c.o CMakeFiles/mtmetis.dir/mtmetis_bin.c.o CMakeFiles/mtmetis.dir/order.c.o CMakeFiles/mtmetis.dir/partition.c.o CMakeFiles/mtmetis.dir/project.c.o CMakeFiles/mtmetis.dir/refine.c.o CMakeFiles/mtmetis.dir/uncoarsen.c.o CMakeFiles/mtmetis.dir/vseprefine.c.o CMakeFiles/mtmetis.dir/vsinfo.c.o CMakeFiles/mtmetis.dir/__/metis/GKlib/error.c.o CMakeFiles/mtmetis.dir/__/metis/GKlib/fs.c.o CMakeFiles/mtmetis.dir/__/metis/GKlib/gk_util.c.o CMakeFiles/mtmetis.dir/__/metis/GKlib/io.c.o CMakeFiles/mtmetis.dir/__/metis/GKlib/mcore.c.o CMakeFiles/mtmetis.dir/__/metis/GKlib/memory.c.o CMakeFiles/mtmetis.dir/__/metis/GKlib/random.c.o CMakeFiles/mtmetis.dir/__/metis/GKlib/string.c.o CMakeFiles/mtmetis.dir/__/metis/GKlib/timers.c.o CMakeFiles/mtmetis.dir/__/metis/libmetis/auxapi.c.o CMakeFiles/mtmetis.dir/__/metis/libmetis/balance.c.o CMakeFiles/mtmetis.dir/__/metis/libmetis/bucketsort.c.o CMakeFiles/mtmetis.dir/__/metis/libmetis/checkgraph.c.o CMakeFiles/mtmetis.dir/__/metis/libmetis/coarsen.c.o CMakeFiles/mtmetis.dir/__/metis/libmetis/compress.c.o CMakeFiles/mtmetis.dir/__/metis/libmetis/contig.c.o CMakeFiles/mtmetis.dir/__/metis/libmetis/debug.c.o CMakeFiles/mtmetis.dir/__/metis/libmetis/fm.c.o CMakeFiles/mtmetis.dir/__/metis/libmetis/fortran.c.o CMakeFiles/mtmetis.dir/__/metis/libmetis/gklib.c.o CMakeFiles/mtmetis.dir/__/metis/libmetis/graph.c.o CMakeFiles/mtmetis.dir/__/metis/libmetis/initpart.c.o CMakeFiles/mtmetis.dir/__/metis/libmetis/kmetis.c.o CMakeFiles/mtmetis.dir/__/metis/libmetis/kwayfm.c.o CMakeFiles/mtmetis.dir/__/metis/libmetis/kwayrefine.c.o CMakeFiles/mtmetis.dir/__/metis/libmetis/mcutil.c.o CMakeFiles/mtmetis.dir/__/metis/libmetis/minconn.c.o CMakeFiles/mtmetis.dir/__/metis/libmetis/mincover.c.o CMakeFiles/mtmetis.dir/__/metis/libmetis/mmd.c.o CMakeFiles/mtmetis.dir/__/metis/libmetis/ometis.c.o CMakeFiles/mtmetis.dir/__/metis/libmetis/options.c.o CMakeFiles/mtmetis.dir/__/metis/libmetis/parmetis.c.o CMakeFiles/mtmetis.dir/__/metis/libmetis/pmetis.c.o CMakeFiles/mtmetis.dir/__/metis/libmetis/refine.c.o CMakeFiles/mtmetis.dir/__/metis/libmetis/separator.c.o CMakeFiles/mtmetis.dir/__/metis/libmetis/sfm.c.o CMakeFiles/mtmetis.dir/__/metis/libmetis/srefine.c.o CMakeFiles/mtmetis.dir/__/metis/libmetis/stat.c.o CMakeFiles/mtmetis.dir/__/metis/libmetis/timing.c.o CMakeFiles/mtmetis.dir/__/metis/libmetis/util.c.o CMakeFiles/mtmetis.dir/__/metis/libmetis/wspace.c.o CMakeFiles/mtmetis.dir/__/domlib/dlcmdline.c.o CMakeFiles/mtmetis.dir/__/domlib/dlenv.c.o CMakeFiles/mtmetis.dir/__/domlib/dlfile.c.o CMakeFiles/mtmetis.dir/__/domlib/dlstring.c.o CMakeFiles/mtmetis.dir/__/domlib/dlterm.c.o CMakeFiles/mtmetis.dir/__/domlib/dlthread.c.o CMakeFiles/mtmetis.dir/__/domlib/dlthread_pool.c.o CMakeFiles/mtmetis.dir/__/domlib/dlutil.c.o CMakeFiles/mtmetis.dir/__/domlib/domlib.c.o\n",
            "/usr/bin/ranlib ../lib/libmtmetis.a\n",
            "make[3]: Leaving directory '/content/mt-metis-0.7.2/build/Linux-x86_64'\n",
            "[ 98%] Built target mtmetis\n",
            "make  -f src/CMakeFiles/mtmetis_bin.dir/build.make src/CMakeFiles/mtmetis_bin.dir/depend\n",
            "make[3]: Entering directory '/content/mt-metis-0.7.2/build/Linux-x86_64'\n",
            "cd /content/mt-metis-0.7.2/build/Linux-x86_64 && /usr/local/lib/python3.10/dist-packages/cmake/data/bin/cmake -E cmake_depends \"Unix Makefiles\" /content/mt-metis-0.7.2 /content/mt-metis-0.7.2/src /content/mt-metis-0.7.2/build/Linux-x86_64 /content/mt-metis-0.7.2/build/Linux-x86_64/src /content/mt-metis-0.7.2/build/Linux-x86_64/src/CMakeFiles/mtmetis_bin.dir/DependInfo.cmake \"--color=\"\n",
            "make[3]: Leaving directory '/content/mt-metis-0.7.2/build/Linux-x86_64'\n",
            "make  -f src/CMakeFiles/mtmetis_bin.dir/build.make src/CMakeFiles/mtmetis_bin.dir/build\n",
            "make[3]: Entering directory '/content/mt-metis-0.7.2/build/Linux-x86_64'\n",
            "[ 99%] \u001b[32mBuilding C object src/CMakeFiles/mtmetis_bin.dir/mtmetis_bin.c.o\u001b[0m\n",
            "cd /content/mt-metis-0.7.2/build/Linux-x86_64/src && /usr/bin/cc -DNDEBUG2=1 -DNDEBUG=1 -DWILDRIVER_DIMENSION_TYPE=uint32_t -DWILDRIVER_INDEX_TYPE=uint32_t -DWILDRIVER_INT_WEIGHTS=1 -DWILDRIVER_VALUE_TYPE=int32_t -I/content/mt-metis-0.7.2/include -I/content/mt-metis-0.7.2/domlib -I/content/mt-metis-0.7.2/wildriver/include -I/content/mt-metis-0.7.2/metis/include -I/content/mt-metis-0.7.2/metis/libmetis -I/content/mt-metis-0.7.2/metis/GKlib -I/content/mt-metis-0.7.2/src/. -fopenmp -std=c99 -O3 -DNDEBUG -MD -MT src/CMakeFiles/mtmetis_bin.dir/mtmetis_bin.c.o -MF CMakeFiles/mtmetis_bin.dir/mtmetis_bin.c.o.d -o CMakeFiles/mtmetis_bin.dir/mtmetis_bin.c.o -c /content/mt-metis-0.7.2/src/mtmetis_bin.c\n",
            "[100%] \u001b[32m\u001b[1mLinking C executable ../bin/mtmetis\u001b[0m\n",
            "cd /content/mt-metis-0.7.2/build/Linux-x86_64/src && /usr/local/lib/python3.10/dist-packages/cmake/data/bin/cmake -E cmake_link_script CMakeFiles/mtmetis_bin.dir/link.txt --verbose=1\n",
            "/usr/bin/cc  -fopenmp -std=c99 -O3 -DNDEBUG -rdynamic CMakeFiles/mtmetis_bin.dir/mtmetis_bin.c.o -o ../bin/mtmetis  -Wl,-rpath,/content/mt-metis-0.7.2/build/Linux-x86_64/lib: ../lib/libmtmetis.a ../lib/libwildriver.so -lm \n",
            "make[3]: Leaving directory '/content/mt-metis-0.7.2/build/Linux-x86_64'\n",
            "[100%] Built target mtmetis_bin\n",
            "make[2]: Leaving directory '/content/mt-metis-0.7.2/build/Linux-x86_64'\n",
            "/usr/local/lib/python3.10/dist-packages/cmake/data/bin/cmake -E cmake_progress_start /content/mt-metis-0.7.2/build/Linux-x86_64/CMakeFiles 0\n",
            "make[1]: Leaving directory '/content/mt-metis-0.7.2/build/Linux-x86_64'\n",
            "make -C build/Linux-x86_64 install \n",
            "make[1]: Entering directory '/content/mt-metis-0.7.2/build/Linux-x86_64'\n",
            "/usr/local/lib/python3.10/dist-packages/cmake/data/bin/cmake -S/content/mt-metis-0.7.2 -B/content/mt-metis-0.7.2/build/Linux-x86_64 --check-build-system CMakeFiles/Makefile.cmake 0\n",
            "/usr/local/lib/python3.10/dist-packages/cmake/data/bin/cmake -E cmake_progress_start /content/mt-metis-0.7.2/build/Linux-x86_64/CMakeFiles /content/mt-metis-0.7.2/build/Linux-x86_64//CMakeFiles/progress.marks\n",
            "make  -f CMakeFiles/Makefile2 all\n",
            "make[2]: Entering directory '/content/mt-metis-0.7.2/build/Linux-x86_64'\n",
            "make  -f wildriver/src/CMakeFiles/wildriver.dir/build.make wildriver/src/CMakeFiles/wildriver.dir/depend\n",
            "make[3]: Entering directory '/content/mt-metis-0.7.2/build/Linux-x86_64'\n",
            "cd /content/mt-metis-0.7.2/build/Linux-x86_64 && /usr/local/lib/python3.10/dist-packages/cmake/data/bin/cmake -E cmake_depends \"Unix Makefiles\" /content/mt-metis-0.7.2 /content/mt-metis-0.7.2/wildriver/src /content/mt-metis-0.7.2/build/Linux-x86_64 /content/mt-metis-0.7.2/build/Linux-x86_64/wildriver/src /content/mt-metis-0.7.2/build/Linux-x86_64/wildriver/src/CMakeFiles/wildriver.dir/DependInfo.cmake \"--color=\"\n",
            "make[3]: Leaving directory '/content/mt-metis-0.7.2/build/Linux-x86_64'\n",
            "make  -f wildriver/src/CMakeFiles/wildriver.dir/build.make wildriver/src/CMakeFiles/wildriver.dir/build\n",
            "make[3]: Entering directory '/content/mt-metis-0.7.2/build/Linux-x86_64'\n",
            "make[3]: Nothing to be done for 'wildriver/src/CMakeFiles/wildriver.dir/build'.\n",
            "make[3]: Leaving directory '/content/mt-metis-0.7.2/build/Linux-x86_64'\n",
            "[ 28%] Built target wildriver\n",
            "make  -f src/CMakeFiles/mtmetis.dir/build.make src/CMakeFiles/mtmetis.dir/depend\n",
            "make[3]: Entering directory '/content/mt-metis-0.7.2/build/Linux-x86_64'\n",
            "cd /content/mt-metis-0.7.2/build/Linux-x86_64 && /usr/local/lib/python3.10/dist-packages/cmake/data/bin/cmake -E cmake_depends \"Unix Makefiles\" /content/mt-metis-0.7.2 /content/mt-metis-0.7.2/src /content/mt-metis-0.7.2/build/Linux-x86_64 /content/mt-metis-0.7.2/build/Linux-x86_64/src /content/mt-metis-0.7.2/build/Linux-x86_64/src/CMakeFiles/mtmetis.dir/DependInfo.cmake \"--color=\"\n",
            "make[3]: Leaving directory '/content/mt-metis-0.7.2/build/Linux-x86_64'\n",
            "make  -f src/CMakeFiles/mtmetis.dir/build.make src/CMakeFiles/mtmetis.dir/build\n",
            "make[3]: Entering directory '/content/mt-metis-0.7.2/build/Linux-x86_64'\n",
            "make[3]: Nothing to be done for 'src/CMakeFiles/mtmetis.dir/build'.\n",
            "make[3]: Leaving directory '/content/mt-metis-0.7.2/build/Linux-x86_64'\n",
            "[ 98%] Built target mtmetis\n",
            "make  -f src/CMakeFiles/mtmetis_bin.dir/build.make src/CMakeFiles/mtmetis_bin.dir/depend\n",
            "make[3]: Entering directory '/content/mt-metis-0.7.2/build/Linux-x86_64'\n",
            "cd /content/mt-metis-0.7.2/build/Linux-x86_64 && /usr/local/lib/python3.10/dist-packages/cmake/data/bin/cmake -E cmake_depends \"Unix Makefiles\" /content/mt-metis-0.7.2 /content/mt-metis-0.7.2/src /content/mt-metis-0.7.2/build/Linux-x86_64 /content/mt-metis-0.7.2/build/Linux-x86_64/src /content/mt-metis-0.7.2/build/Linux-x86_64/src/CMakeFiles/mtmetis_bin.dir/DependInfo.cmake \"--color=\"\n",
            "make[3]: Leaving directory '/content/mt-metis-0.7.2/build/Linux-x86_64'\n",
            "make  -f src/CMakeFiles/mtmetis_bin.dir/build.make src/CMakeFiles/mtmetis_bin.dir/build\n",
            "make[3]: Entering directory '/content/mt-metis-0.7.2/build/Linux-x86_64'\n",
            "make[3]: Nothing to be done for 'src/CMakeFiles/mtmetis_bin.dir/build'.\n",
            "make[3]: Leaving directory '/content/mt-metis-0.7.2/build/Linux-x86_64'\n",
            "[100%] Built target mtmetis_bin\n",
            "make[2]: Leaving directory '/content/mt-metis-0.7.2/build/Linux-x86_64'\n",
            "/usr/local/lib/python3.10/dist-packages/cmake/data/bin/cmake -E cmake_progress_start /content/mt-metis-0.7.2/build/Linux-x86_64/CMakeFiles 0\n",
            "make  -f CMakeFiles/Makefile2 preinstall\n",
            "make[2]: Entering directory '/content/mt-metis-0.7.2/build/Linux-x86_64'\n",
            "make[2]: Nothing to be done for 'preinstall'.\n",
            "make[2]: Leaving directory '/content/mt-metis-0.7.2/build/Linux-x86_64'\n",
            "\u001b[36mInstall the project...\u001b[0m\n",
            "/usr/local/lib/python3.10/dist-packages/cmake/data/bin/cmake -P cmake_install.cmake\n",
            "-- Install configuration: \"Release\"\n",
            "-- Installing: /usr/local/include/mtmetis.h\n",
            "-- Installing: /usr/local/include/wildriver.h\n",
            "-- Installing: /usr/local/lib/libwildriver.so\n",
            "-- Installing: /usr/local/lib/libmtmetis.a\n",
            "-- Installing: /usr/local/bin/mtmetis\n",
            "-- Set runtime path of \"/usr/local/bin/mtmetis\" to \"\"\n",
            "make[1]: Leaving directory '/content/mt-metis-0.7.2/build/Linux-x86_64'\n"
          ]
        }
      ]
    },
    {
      "cell_type": "code",
      "source": [
        "!apt-get install sysstat\n",
        "!sudo apt install zsh -y"
      ],
      "metadata": {
        "colab": {
          "base_uri": "https://localhost:8080/"
        },
        "id": "YfWY4qXnzBm3",
        "outputId": "3df4d186-156d-4626-b31e-3f5dc98635f4"
      },
      "execution_count": 44,
      "outputs": [
        {
          "output_type": "stream",
          "name": "stdout",
          "text": [
            "Reading package lists... Done\n",
            "Building dependency tree... Done\n",
            "Reading state information... Done\n",
            "sysstat is already the newest version (12.5.2-2ubuntu0.2).\n",
            "0 upgraded, 0 newly installed, 0 to remove and 18 not upgraded.\n",
            "Reading package lists... Done\n",
            "Building dependency tree... Done\n",
            "Reading state information... Done\n",
            "The following additional packages will be installed:\n",
            "  zsh-common\n",
            "Suggested packages:\n",
            "  zsh-doc\n",
            "The following NEW packages will be installed:\n",
            "  zsh zsh-common\n",
            "0 upgraded, 2 newly installed, 0 to remove and 18 not upgraded.\n",
            "Need to get 4,794 kB of archives.\n",
            "After this operation, 18.2 MB of additional disk space will be used.\n",
            "Get:1 http://archive.ubuntu.com/ubuntu jammy/main amd64 zsh-common all 5.8.1-1 [3,985 kB]\n",
            "Get:2 http://archive.ubuntu.com/ubuntu jammy/main amd64 zsh amd64 5.8.1-1 [809 kB]\n",
            "Fetched 4,794 kB in 1s (5,127 kB/s)\n",
            "debconf: unable to initialize frontend: Dialog\n",
            "debconf: (No usable dialog-like program is installed, so the dialog based frontend cannot be used. at /usr/share/perl5/Debconf/FrontEnd/Dialog.pm line 78, <> line 2.)\n",
            "debconf: falling back to frontend: Readline\n",
            "debconf: unable to initialize frontend: Readline\n",
            "debconf: (This frontend requires a controlling tty.)\n",
            "debconf: falling back to frontend: Teletype\n",
            "dpkg-preconfigure: unable to re-open stdin: \n",
            "Selecting previously unselected package zsh-common.\n",
            "(Reading database ... 120957 files and directories currently installed.)\n",
            "Preparing to unpack .../zsh-common_5.8.1-1_all.deb ...\n",
            "Unpacking zsh-common (5.8.1-1) ...\n",
            "Selecting previously unselected package zsh.\n",
            "Preparing to unpack .../archives/zsh_5.8.1-1_amd64.deb ...\n",
            "Unpacking zsh (5.8.1-1) ...\n",
            "Setting up zsh-common (5.8.1-1) ...\n",
            "Setting up zsh (5.8.1-1) ...\n",
            "Processing triggers for man-db (2.10.2-1) ...\n"
          ]
        }
      ]
    },
    {
      "cell_type": "code",
      "source": [
        "!curl -o  4elt.graph https://raw.githubusercontent.com/schulzchristian/KaDraw/master/examples/4elt.graph"
      ],
      "metadata": {
        "colab": {
          "base_uri": "https://localhost:8080/"
        },
        "id": "cSE-ufQCyq-i",
        "outputId": "223e3398-23e3-4efd-a918-29cc73e994d8"
      },
      "execution_count": 3,
      "outputs": [
        {
          "output_type": "stream",
          "name": "stdout",
          "text": [
            "  % Total    % Received % Xferd  Average Speed   Time    Time     Time  Current\n",
            "                                 Dload  Upload   Total   Spent    Left  Speed\n",
            "100  489k  100  489k    0     0   928k      0 --:--:-- --:--:-- --:--:--  928k\n"
          ]
        }
      ]
    },
    {
      "cell_type": "code",
      "source": [
        "!./mt-metis-0.7.2/build/Linux-x86_64/bin/mtmetis -pnd 4elt.graph 4elt.perm"
      ],
      "metadata": {
        "colab": {
          "base_uri": "https://localhost:8080/"
        },
        "id": "WoGs-xJez-BD",
        "outputId": "b6e161d0-65cf-4843-8f87-b4c7759c8f6e"
      },
      "execution_count": 4,
      "outputs": [
        {
          "output_type": "stream",
          "name": "stdout",
          "text": [
            "Read '4elt.graph' with 15606 vertices and 45878 edges.\n",
            "% PARAMETERS %%%%%%%%%%%%%%%%%%%%%%%%%%%%%%%%%%%%%%%%%%%%%%%%%%%%%%%%%%%%%%%%%%%\n",
            "Number of Threads: 2 | Verbosity: low\n",
            "Number of Runs: 1 | Random Seed: 0\n",
            "Number of Partitions: 3 | Partition Type: nd\n",
            "Coarsening Type: shem | Contraction Type: ls\n",
            "Refinement Type: sfg | Number of Refinement Passes: 8\n",
            "Balance: 1.20 | Distribution: blockcyclic\n",
            "Leaf-Matching: Yes | Remove Islands: No\n",
            "%%%%%%%%%%%%%%%%%%%%%%%%%%%%%%%%%%%%%%%%%%%%%%%%%%%%%%%%%%%%%%%%%%%%%%%%%%%%%%%%\n",
            "$ AUXILLARY TIME $$$$$$$$$$$$$$$$$$$$$$$$$$$$$$$$$$$$$$$$$$$$$$$$$$$$$$$$$$$$$$$\n",
            "Input: 0.00864s\n",
            "Output: 0.00222s\n",
            "$$$$$$$$$$$$$$$$$$$$$$$$$$$$$$$$$$$$$$$$$$$$$$$$$$$$$$$$$$$$$$$$$$$$$$$$$$$$$$$$\n"
          ]
        }
      ]
    },
    {
      "cell_type": "code",
      "source": [
        "!./mt-metis-0.7.2/build/Linux-x86_64/bin/mtmetis -T 4 -pnd 4elt.graph 4elt2.perm"
      ],
      "metadata": {
        "colab": {
          "base_uri": "https://localhost:8080/"
        },
        "id": "TiABPzOr0TmY",
        "outputId": "07c660ea-8fb6-442d-f212-66e9ac1a82c8"
      },
      "execution_count": 5,
      "outputs": [
        {
          "output_type": "stream",
          "name": "stdout",
          "text": [
            "Read '4elt.graph' with 15606 vertices and 45878 edges.\n",
            "% PARAMETERS %%%%%%%%%%%%%%%%%%%%%%%%%%%%%%%%%%%%%%%%%%%%%%%%%%%%%%%%%%%%%%%%%%%\n",
            "Number of Threads: 4 | Verbosity: low\n",
            "Number of Runs: 1 | Random Seed: 0\n",
            "Number of Partitions: 3 | Partition Type: nd\n",
            "Coarsening Type: shem | Contraction Type: ls\n",
            "Refinement Type: sfg | Number of Refinement Passes: 8\n",
            "Balance: 1.20 | Distribution: blockcyclic\n",
            "Leaf-Matching: Yes | Remove Islands: No\n",
            "%%%%%%%%%%%%%%%%%%%%%%%%%%%%%%%%%%%%%%%%%%%%%%%%%%%%%%%%%%%%%%%%%%%%%%%%%%%%%%%%\n",
            "$ AUXILLARY TIME $$$$$$$$$$$$$$$$$$$$$$$$$$$$$$$$$$$$$$$$$$$$$$$$$$$$$$$$$$$$$$$\n",
            "Input: 0.01183s\n",
            "Output: 0.00216s\n",
            "$$$$$$$$$$$$$$$$$$$$$$$$$$$$$$$$$$$$$$$$$$$$$$$$$$$$$$$$$$$$$$$$$$$$$$$$$$$$$$$$\n"
          ]
        }
      ]
    },
    {
      "cell_type": "code",
      "source": [
        "!./mt-metis-0.7.2/build/Linux-x86_64/bin/mtmetis -T 4 -pnd 4elt.graph 4elt2.perm & top -d 1 -b -p $! > success.file"
      ],
      "metadata": {
        "colab": {
          "base_uri": "https://localhost:8080/"
        },
        "id": "K-FKn5YLki_x",
        "outputId": "822ef9dc-7cd5-4aed-baf7-9fb61d84771d"
      },
      "execution_count": 27,
      "outputs": [
        {
          "output_type": "stream",
          "name": "stdout",
          "text": [
            "Read '4elt.graph' with 15606 vertices and 45878 edges.\n",
            "% PARAMETERS %%%%%%%%%%%%%%%%%%%%%%%%%%%%%%%%%%%%%%%%%%%%%%%%%%%%%%%%%%%%%%%%%%%\n",
            "Number of Threads: 4 | Verbosity: low\n",
            "Number of Runs: 1 | Random Seed: 0\n",
            "Number of Partitions: 3 | Partition Type: nd\n",
            "Coarsening Type: shem | Contraction Type: ls\n",
            "Refinement Type: sfg | Number of Refinement Passes: 8\n",
            "Balance: 1.20 | Distribution: blockcyclic\n",
            "Leaf-Matching: Yes | Remove Islands: No\n",
            "%%%%%%%%%%%%%%%%%%%%%%%%%%%%%%%%%%%%%%%%%%%%%%%%%%%%%%%%%%%%%%%%%%%%%%%%%%%%%%%%\n",
            "$ AUXILLARY TIME $$$$$$$$$$$$$$$$$$$$$$$$$$$$$$$$$$$$$$$$$$$$$$$$$$$$$$$$$$$$$$$\n",
            "Input: 0.01590s\n",
            "Output: 0.00188s\n",
            "$$$$$$$$$$$$$$$$$$$$$$$$$$$$$$$$$$$$$$$$$$$$$$$$$$$$$$$$$$$$$$$$$$$$$$$$$$$$$$$$\n"
          ]
        }
      ]
    },
    {
      "cell_type": "code",
      "source": [
        "# time method: bash\n",
        "!time (./mt-metis-0.7.2/build/Linux-x86_64/bin/mtmetis -T 4 -pnd 4elt.graph 4elt2.perm & pidstat -h -r -u -v -p $! 1 > success.file & (for i in {1..100}; do sleep 0.1 && grep ^VmPeak /proc/$!/status >> peakmem.file; done) )\n",
        "!cat success.file"
      ],
      "metadata": {
        "colab": {
          "base_uri": "https://localhost:8080/"
        },
        "id": "Mzlry30swVRF",
        "outputId": "29217b9f-1ac1-4fdf-9cef-a960dd6ab35e"
      },
      "execution_count": 68,
      "outputs": [
        {
          "output_type": "stream",
          "name": "stdout",
          "text": [
            "Read '4elt.graph' with 15606 vertices and 45878 edges.\n",
            "% PARAMETERS %%%%%%%%%%%%%%%%%%%%%%%%%%%%%%%%%%%%%%%%%%%%%%%%%%%%%%%%%%%%%%%%%%%\n",
            "Number of Threads: 4 | Verbosity: low\n",
            "Number of Runs: 1 | Random Seed: 0\n",
            "Number of Partitions: 3 | Partition Type: nd\n",
            "Coarsening Type: shem | Contraction Type: ls\n",
            "Refinement Type: sfg | Number of Refinement Passes: 8\n",
            "Balance: 1.20 | Distribution: blockcyclic\n",
            "Leaf-Matching: Yes | Remove Islands: No\n",
            "%%%%%%%%%%%%%%%%%%%%%%%%%%%%%%%%%%%%%%%%%%%%%%%%%%%%%%%%%%%%%%%%%%%%%%%%%%%%%%%%\n",
            "$ AUXILLARY TIME $$$$$$$$$$$$$$$$$$$$$$$$$$$$$$$$$$$$$$$$$$$$$$$$$$$$$$$$$$$$$$$\n",
            "Input: 0.01023s\n",
            "Output: 0.00304s\n",
            "$$$$$$$$$$$$$$$$$$$$$$$$$$$$$$$$$$$$$$$$$$$$$$$$$$$$$$$$$$$$$$$$$$$$$$$$$$$$$$$$\n",
            "grep: /proc/23930/status: No such file or directory\n",
            "grep: /proc/23930/status: No such file or directory\n",
            "grep: /proc/23930/status: No such file or directory\n",
            "grep: /proc/23930/status: No such file or directory\n",
            "grep: /proc/23930/status: No such file or directory\n",
            "grep: /proc/23930/status: No such file or directory\n",
            "grep: /proc/23930/status: No such file or directory\n",
            "grep: /proc/23930/status: No such file or directory\n",
            "grep: /proc/23930/status: No such file or directory\n",
            "grep: /proc/23930/status: No such file or directory\n",
            "grep: /proc/23930/status: No such file or directory\n",
            "grep: /proc/23930/status: No such file or directory\n",
            "grep: /proc/23930/status: No such file or directory\n",
            "grep: /proc/23930/status: No such file or directory\n",
            "grep: /proc/23930/status: No such file or directory\n",
            "grep: /proc/23930/status: No such file or directory\n",
            "grep: /proc/23930/status: No such file or directory\n",
            "grep: /proc/23930/status: No such file or directory\n",
            "grep: /proc/23930/status: No such file or directory\n",
            "grep: /proc/23930/status: No such file or directory\n",
            "grep: /proc/23930/status: No such file or directory\n",
            "grep: /proc/23930/status: No such file or directory\n",
            "grep: /proc/23930/status: No such file or directory\n",
            "grep: /proc/23930/status: No such file or directory\n",
            "grep: /proc/23930/status: No such file or directory\n",
            "grep: /proc/23930/status: No such file or directory\n",
            "grep: /proc/23930/status: No such file or directory\n",
            "grep: /proc/23930/status: No such file or directory\n",
            "grep: /proc/23930/status: No such file or directory\n",
            "grep: /proc/23930/status: No such file or directory\n",
            "grep: /proc/23930/status: No such file or directory\n",
            "grep: /proc/23930/status: No such file or directory\n",
            "grep: /proc/23930/status: No such file or directory\n",
            "grep: /proc/23930/status: No such file or directory\n",
            "grep: /proc/23930/status: No such file or directory\n",
            "grep: /proc/23930/status: No such file or directory\n",
            "grep: /proc/23930/status: No such file or directory\n",
            "grep: /proc/23930/status: No such file or directory\n",
            "grep: /proc/23930/status: No such file or directory\n",
            "grep: /proc/23930/status: No such file or directory\n",
            "grep: /proc/23930/status: No such file or directory\n",
            "grep: /proc/23930/status: No such file or directory\n",
            "grep: /proc/23930/status: No such file or directory\n",
            "grep: /proc/23930/status: No such file or directory\n",
            "grep: /proc/23930/status: No such file or directory\n",
            "grep: /proc/23930/status: No such file or directory\n",
            "grep: /proc/23930/status: No such file or directory\n",
            "grep: /proc/23930/status: No such file or directory\n",
            "grep: /proc/23930/status: No such file or directory\n",
            "\n",
            "real\t0m11.010s\n",
            "user\t0m9.730s\n",
            "sys\t0m0.190s\n",
            "Linux 5.15.120+ (d87e824eb9d9) \t09/27/2023 \t_x86_64_\t(2 CPU)\n",
            "\n",
            "# Time        UID       PID    %usr %system  %guest   %wait    %CPU   CPU  minflt/s  majflt/s     VSZ     RSS   %MEM threads   fd-nr  Command\n",
            "11:01:32 PM     0     23929   94.06    0.00    0.00   73.27   94.06     0    561.39      0.00  229720    6584   0.05       4       3  mtmetis\n",
            "\n",
            "# Time        UID       PID    %usr %system  %guest   %wait    %CPU   CPU  minflt/s  majflt/s     VSZ     RSS   %MEM threads   fd-nr  Command\n",
            "11:01:33 PM     0     23929  142.00    0.00    0.00   65.00  142.00     0    204.00      0.00  229988    6780   0.05       4       3  mtmetis\n",
            "\n",
            "# Time        UID       PID    %usr %system  %guest   %wait    %CPU   CPU  minflt/s  majflt/s     VSZ     RSS   %MEM threads   fd-nr  Command\n",
            "11:01:34 PM     0     23929  194.00    0.00    0.00   51.00  194.00     0    169.00      0.00  230084    7684   0.06       4       3  mtmetis\n",
            "\n",
            "# Time        UID       PID    %usr %system  %guest   %wait    %CPU   CPU  minflt/s  majflt/s     VSZ     RSS   %MEM threads   fd-nr  Command\n",
            "11:01:35 PM     0     23929  191.00    1.00    0.00   48.00  192.00     0   1206.00      0.00  230760   11108   0.08       4       3  mtmetis\n",
            "\n",
            "# Time        UID       PID    %usr %system  %guest   %wait    %CPU   CPU  minflt/s  majflt/s     VSZ     RSS   %MEM threads   fd-nr  Command\n",
            "11:01:36 PM     0     23929  194.00    0.00    0.00   50.00  194.00     0      0.00      0.00  230760   11108   0.08       4       3  mtmetis\n",
            "\n",
            "# Time        UID       PID    %usr %system  %guest   %wait    %CPU   CPU  minflt/s  majflt/s     VSZ     RSS   %MEM threads   fd-nr  Command\n"
          ]
        }
      ]
    },
    {
      "cell_type": "code",
      "source": [
        "# time method: zsh\n",
        "!zsh -c 'trap time EXIT; ./mt-metis-0.7.2/build/Linux-x86_64/bin/mtmetis -T 4 -pnd 4elt.graph 4elt2.perm & pidstat -h -r -u -v -p $! 1 > success2.file'\n",
        "!cat success2.file"
      ],
      "metadata": {
        "colab": {
          "base_uri": "https://localhost:8080/"
        },
        "outputId": "2d2f4b9f-cc29-4d37-cd4f-48e5ec139978",
        "id": "flgYIeGa0d_7"
      },
      "execution_count": 58,
      "outputs": [
        {
          "output_type": "stream",
          "name": "stdout",
          "text": [
            "Read '4elt.graph' with 15606 vertices and 45878 edges.\n",
            "% PARAMETERS %%%%%%%%%%%%%%%%%%%%%%%%%%%%%%%%%%%%%%%%%%%%%%%%%%%%%%%%%%%%%%%%%%%\n",
            "Number of Threads: 4 | Verbosity: low\n",
            "Number of Runs: 1 | Random Seed: 0\n",
            "Number of Partitions: 3 | Partition Type: nd\n",
            "Coarsening Type: shem | Contraction Type: ls\n",
            "Refinement Type: sfg | Number of Refinement Passes: 8\n",
            "Balance: 1.20 | Distribution: blockcyclic\n",
            "Leaf-Matching: Yes | Remove Islands: No\n",
            "%%%%%%%%%%%%%%%%%%%%%%%%%%%%%%%%%%%%%%%%%%%%%%%%%%%%%%%%%%%%%%%%%%%%%%%%%%%%%%%%\n",
            "shell  0.00s user 0.00s system 0% cpu 1.013 total\n",
            "children  0.00s user 0.00s system 0% cpu 1.013 total\n",
            "$ AUXILLARY TIME $$$$$$$$$$$$$$$$$$$$$$$$$$$$$$$$$$$$$$$$$$$$$$$$$$$$$$$$$$$$$$$\n",
            "Input: 0.00812s\n",
            "Output: 0.00172s\n",
            "$$$$$$$$$$$$$$$$$$$$$$$$$$$$$$$$$$$$$$$$$$$$$$$$$$$$$$$$$$$$$$$$$$$$$$$$$$$$$$$$\n",
            "Linux 5.15.120+ (d87e824eb9d9) \t09/27/2023 \t_x86_64_\t(2 CPU)\n",
            "\n",
            "# Time        UID       PID    %usr %system  %guest   %wait    %CPU   CPU  minflt/s  majflt/s     VSZ     RSS   %MEM threads   fd-nr  Command\n",
            "10:56:04 PM     0     22552  101.00    0.00    0.00   74.00  101.00     1    625.00      0.00  229720    6332   0.05       4       3  mtmetis\n",
            "\n",
            "# Time        UID       PID    %usr %system  %guest   %wait    %CPU   CPU  minflt/s  majflt/s     VSZ     RSS   %MEM threads   fd-nr  Command\n",
            "10:56:05 PM     0     22552  176.00    0.00    0.00   58.00  176.00     1    322.00      0.00  230560    7428   0.06       4       3  mtmetis\n",
            "\n",
            "# Time        UID       PID    %usr %system  %guest   %wait    %CPU   CPU  minflt/s  majflt/s     VSZ     RSS   %MEM threads   fd-nr  Command\n",
            "10:56:06 PM     0     22552  190.00    1.00    0.00   54.00  191.00     0   1226.00      0.00  231092   10980   0.08       4       3  mtmetis\n",
            "\n",
            "# Time        UID       PID    %usr %system  %guest   %wait    %CPU   CPU  minflt/s  majflt/s     VSZ     RSS   %MEM threads   fd-nr  Command\n"
          ]
        }
      ]
    },
    {
      "cell_type": "code",
      "source": [
        "!lscpu | grep core\n",
        "!grep MemTotal /proc/meminfo | awk '{print $2}'"
      ],
      "metadata": {
        "colab": {
          "base_uri": "https://localhost:8080/"
        },
        "id": "sfImNaNN1IO3",
        "outputId": "c928ccff-8849-4cc0-f449-3c7780a1ed8a"
      },
      "execution_count": 56,
      "outputs": [
        {
          "output_type": "stream",
          "name": "stdout",
          "text": [
            "Thread(s) per core:              2\n",
            "13294208\n"
          ]
        }
      ]
    },
    {
      "cell_type": "code",
      "source": [
        "# ZSH time\n",
        "# https://unix.stackexchange.com/questions/562650/how-can-i-make-the-output-of-time-in-zsh-be-like-bash\n",
        "# https://superuser.com/questions/480928/is-there-any-command-like-time-but-for-memory-usage\n",
        "\n",
        "!TIMEFMT='%J   %U  user %S system %P cpu %*E total'$'\\n avg shared (code):         %X KB'$'\\n avg unshared (data/stack): %D KB'$'\\n total (sum):               %K KB'$'\\n max memory:                %M '$'\\n page faults from disk:     %F'$'\\n other page faults:         %R'\n",
        "!zsh -c 'TIMEFMT=$'\\''%J\\n%U user\\n%S system\\n%P cpu\\n%*E total %M KB'\\''; time ./mt-metis-0.7.2/build/Linux-x86_64/bin/mtmetis -T 4 -pnd 4elt.graph 4elt2.perm'"
      ],
      "metadata": {
        "colab": {
          "base_uri": "https://localhost:8080/"
        },
        "id": "1_B4hgK84tJK",
        "outputId": "f1cbab64-479b-4df4-fce7-501c8283c491"
      },
      "execution_count": 92,
      "outputs": [
        {
          "output_type": "stream",
          "name": "stdout",
          "text": [
            "Read '4elt.graph' with 15606 vertices and 45878 edges.\n",
            "% PARAMETERS %%%%%%%%%%%%%%%%%%%%%%%%%%%%%%%%%%%%%%%%%%%%%%%%%%%%%%%%%%%%%%%%%%%\n",
            "Number of Threads: 4 | Verbosity: low\n",
            "Number of Runs: 1 | Random Seed: 0\n",
            "Number of Partitions: 3 | Partition Type: nd\n",
            "Coarsening Type: shem | Contraction Type: ls\n",
            "Refinement Type: sfg | Number of Refinement Passes: 8\n",
            "Balance: 1.20 | Distribution: blockcyclic\n",
            "Leaf-Matching: Yes | Remove Islands: No\n",
            "%%%%%%%%%%%%%%%%%%%%%%%%%%%%%%%%%%%%%%%%%%%%%%%%%%%%%%%%%%%%%%%%%%%%%%%%%%%%%%%%\n",
            "$ AUXILLARY TIME $$$$$$$$$$$$$$$$$$$$$$$$$$$$$$$$$$$$$$$$$$$$$$$$$$$$$$$$$$$$$$$\n",
            "Input: 0.00423s\n",
            "Output: 0.00182s\n",
            "$$$$$$$$$$$$$$$$$$$$$$$$$$$$$$$$$$$$$$$$$$$$$$$$$$$$$$$$$$$$$$$$$$$$$$$$$$$$$$$$\n",
            "./mt-metis-0.7.2/build/Linux-x86_64/bin/mtmetis -T 4 -pnd 4elt.graph \n",
            "9.49s user\n",
            "0.01s system\n",
            "159% cpu\n",
            "5.948 total 11 KB\n"
          ]
        }
      ]
    }
  ]
}